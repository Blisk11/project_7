{
 "cells": [
  {
   "cell_type": "markdown",
   "metadata": {},
   "source": [
    "Version modifier de :\n",
    "https://www.kaggle.com/hmendonca/lightgbm-predictions-explained-with-shap-0-796\n",
    "\n",
    "Nous avons changer le dataset train et test pour y inclure uniquement celui du train afin de garder les valeurs a predire\n",
    "ajout d'un endroit pour mettre le path des fichiers  "
   ]
  },
  {
   "attachments": {
    "ac3cc4b6-1e2d-4643-9dd7-61319de8d856.png": {
     "image/png": "[encoded data removed]"
    }
   },
   "cell_type": "markdown",
   "metadata": {},
   "source": [
    "# Remarque\n",
    "\n",
    "Nous voulons réduire le dataset pour des raisons de performance.\n",
    "Pour ce faire je vais bin sur le montant alloué au crédit. \n",
    "\n",
    "On peux imagine que on pourrait avoir quelques models en fonction du montant. \n",
    "\n",
    "De plus, si on pouvais avoir une metrique qui calcules les pertes financiéres associer au défault de crédit,\n",
    "nous pourrions ajuster notre metrique de probabilité par tranche de crédit afin de minimiser les pertes financière. \n",
    "\n",
    "EX: ![image.png](attachment:ac3cc4b6-1e2d-4643-9dd7-61319de8d856.png)  \n",
    "  \n"
   ]
  },
  {
   "cell_type": "markdown",
   "metadata": {},
   "source": [
    "Pour une tranche X\n",
    "em moyenne, les défaut de crédit représente 100€,  \n",
    "em moyenne, le profit générer représente 1€  \n",
    "  \n",
    "donc "
   ]
  },
  {
   "cell_type": "code",
   "execution_count": null,
   "metadata": {},
   "outputs": [],
   "source": []
  },
  {
   "attachments": {
    "7b5ec119-f081-4eb4-98c8-6f07f63d26c8.png": {
     "image/png": "[encoded data removed]"
    }
   },
   "cell_type": "markdown",
   "metadata": {},
   "source": [
    "![image.png](attachment:7b5ec119-f081-4eb4-98c8-6f07f63d26c8.png)"
   ]
  },
  {
   "cell_type": "markdown",
   "metadata": {
    "_uuid": "624dda0f4922a86bdf45afb09e10a3a9cc23b867"
   },
   "source": [
    "This kernel shows how one can try to explain the predictions of a given boosted tree model using the lib SHAP https://github.com/slundberg/shap\n",
    "\n",
    "The model is then retrained only with the best features to avoid fitting to noise and improve our LB score ;)\n",
    "\n",
    "It is based on the best performing public script and some other variants: i.e. https://www.kaggle.com/jsaguiar/updated-0-792-lb-lightgbm-with-simple-features et al."
   ]
  },
  {
   "cell_type": "markdown",
   "metadata": {},
   "source": [
    "## Data directory\n",
    "change below"
   ]
  },
  {
   "cell_type": "code",
   "execution_count": 1,
   "metadata": {
    "tags": []
   },
   "outputs": [],
   "source": [
    "DATA_DIRECTORY = r\"C:\\Users\\juvaugha\\Documents\\PYTHON\\OPCR PROJECTS\\projet 7\\Projet+Mise+en+prod+-+home-credit-default-risk\""
   ]
  },
  {
   "cell_type": "code",
   "execution_count": 2,
   "metadata": {},
   "outputs": [],
   "source": [
    "# % du jeu de donner pour train et test\n",
    "# need to be a number between 0.01 and 1\n",
    "percentage_of_data_used = 0.2"
   ]
  },
  {
   "cell_type": "code",
   "execution_count": 14,
   "metadata": {
    "_cell_guid": "b1076dfc-b9ad-4769-8c92-a6c4dae69d19",
    "_kg_hide-input": true,
    "_uuid": "8f2839f25d086af736a60e9eeb907d3b93b6e0e5",
    "tags": []
   },
   "outputs": [],
   "source": [
    "import numpy as np\n",
    "import pandas as pd\n",
    "import shap\n",
    "import gc\n",
    "import time\n",
    "from contextlib import contextmanager\n",
    "from lightgbm import LGBMClassifier\n",
    "from sklearn.metrics import roc_auc_score, roc_curve\n",
    "from sklearn.model_selection import KFold, StratifiedKFold\n",
    "import matplotlib.pyplot as plt\n",
    "import seaborn as sns\n",
    "import warnings\n",
    "warnings.simplefilter(action='ignore', category=FutureWarning)\n",
    "from sklearn.model_selection import train_test_split\n",
    "import os\n",
    "import re\n",
    "\n",
    "@contextmanager\n",
    "def timer(title):\n",
    "    t0 = time.time()\n",
    "    yield\n",
    "    print(\"{} - done in {:.0f}s\".format(title, time.time() - t0))"
   ]
  },
  {
   "cell_type": "code",
   "execution_count": 4,
   "metadata": {
    "_cell_guid": "79c7e3d0-c299-4dcb-8224-4455121ee9b0",
    "_kg_hide-input": true,
    "_uuid": "d629ff2d2480ee46fbb7e2d37f6b5fab8052498a",
    "tags": []
   },
   "outputs": [],
   "source": [
    "def geometric_mean(x):\n",
    "    return np.exp(np.log(x[x>0]).mean())\n",
    "\n",
    "# One-hot encoding for categorical columns with get_dummies\n",
    "def one_hot_encoder(df, nan_as_category = True):\n",
    "    original_columns = list(df.columns)\n",
    "    categorical_columns = [col for col in df.columns if df[col].dtype == 'object']\n",
    "    df = pd.get_dummies(df, columns= categorical_columns, dummy_na= nan_as_category)\n",
    "    new_columns = [c for c in df.columns if c not in original_columns]\n",
    "    return df, new_columns\n",
    "\n",
    "# Preprocess application_train.csv and application_test.csv\n",
    "def application_train_test(num_rows = None, nan_as_category = False):\n",
    "    # Read data and merge\n",
    "    df = pd.read_csv(os.path.join(DATA_DIRECTORY, 'application_train.csv'), nrows= num_rows)\n",
    "    \n",
    "    # Added by Julien VAUGHAN select a bin of AMT_CREDIT\n",
    "    df = df[df['NAME_CONTRACT_TYPE']== 'Cash loans']\n",
    "    bin_labels= [] \n",
    "    for num in range(int(1/percentage_of_data_used)):\n",
    "        bin_labels.append(num)\n",
    "    df['temp_bins'] = pd.qcut(df['AMT_CREDIT'], q=int(1/percentage_of_data_used), labels=bin_labels)\n",
    "    df = df[df['temp_bins']== int(len(bin_labels)/2)]\n",
    "          \n",
    "       \n",
    "    # Optional: Remove 4 applications with XNA CODE_GENDER (train set)\n",
    "    df = df[df['CODE_GENDER'] != 'XNA']\n",
    "    \n",
    "    docs = [_f for _f in df.columns if 'FLAG_DOC' in _f]\n",
    "    live = [_f for _f in df.columns if ('FLAG_' in _f) & ('FLAG_DOC' not in _f) & ('_FLAG_' not in _f)]\n",
    "    \n",
    "    # NaN values for DAYS_EMPLOYED: 365.243 -> nan\n",
    "    df['DAYS_EMPLOYED'].replace(365243, np.nan, inplace= True)\n",
    "\n",
    "    inc_by_org = df[['AMT_INCOME_TOTAL', 'ORGANIZATION_TYPE']].groupby('ORGANIZATION_TYPE').median()['AMT_INCOME_TOTAL']\n",
    "\n",
    "    df['NEW_CREDIT_TO_ANNUITY_RATIO'] = df['AMT_CREDIT'] / df['AMT_ANNUITY']\n",
    "    df['NEW_CREDIT_TO_GOODS_RATIO'] = df['AMT_CREDIT'] / df['AMT_GOODS_PRICE']\n",
    "    df['NEW_DOC_IND_KURT'] = df[docs].kurtosis(axis=1)\n",
    "    df['NEW_LIVE_IND_SUM'] = df[live].sum(axis=1)\n",
    "    df['NEW_INC_PER_CHLD'] = df['AMT_INCOME_TOTAL'] / (1 + df['CNT_CHILDREN'])\n",
    "    df['NEW_INC_BY_ORG'] = df['ORGANIZATION_TYPE'].map(inc_by_org)\n",
    "    df['NEW_EMPLOY_TO_BIRTH_RATIO'] = df['DAYS_EMPLOYED'] / df['DAYS_BIRTH']\n",
    "    df['NEW_EMPLOY_TO_BIRTH-18_RATIO'] = df['DAYS_EMPLOYED'] / (df['DAYS_BIRTH'] + 18*365)\n",
    "    df['NEW_BIRTH_TO_EMPLOY_RATIO'] = df['DAYS_BIRTH'] / (1 + df['DAYS_EMPLOYED'])\n",
    "    df['NEW_INCOME_TO_ANNUITY_RATIO'] = df['AMT_INCOME_TOTAL'] / (1 + df['AMT_ANNUITY'])\n",
    "    df['NEW_ANNUITY_TO_INCOME_RATIO'] = df['AMT_ANNUITY'] / (1 + df['AMT_INCOME_TOTAL'])\n",
    "    df['NEW_EXT_SOURCES_MEDIAN'] = df[['EXT_SOURCE_1', 'EXT_SOURCE_2', 'EXT_SOURCE_3']].median(axis=1, skipna=True)\n",
    "    df['NEW_EXT_SOURCES_MEAN'] = df[['EXT_SOURCE_1', 'EXT_SOURCE_2', 'EXT_SOURCE_3']].mean(axis=1, skipna=True)\n",
    "    df['NEW_EXT_SOURCES_PROD'] = df[['EXT_SOURCE_1', 'EXT_SOURCE_2', 'EXT_SOURCE_3']].prod(axis=1, skipna=True, min_count=1)\n",
    "    df['NEW_EXT_SOURCES_MAX'] = df[['EXT_SOURCE_1', 'EXT_SOURCE_2', 'EXT_SOURCE_3']].max(axis=1, skipna=True)\n",
    "    df['NEW_EXT_SOURCES_MIN'] = df[['EXT_SOURCE_1', 'EXT_SOURCE_2', 'EXT_SOURCE_3']].min(axis=1, skipna=True)\n",
    "    df['NEW_EXT_SOURCES_STD'] = df[['EXT_SOURCE_1', 'EXT_SOURCE_2', 'EXT_SOURCE_3']].std(axis=1, skipna=True)\n",
    "    df['NEW_EXT_SOURCES_MAD'] = df[['EXT_SOURCE_1', 'EXT_SOURCE_2', 'EXT_SOURCE_3']].mad(axis=1, skipna=True)\n",
    "    df['NEW_EXT_SOURCES_GEO'] = df[['EXT_SOURCE_1', 'EXT_SOURCE_2', 'EXT_SOURCE_3']].apply(geometric_mean, axis=1)\n",
    "    df['NEW_CAR_TO_BIRTH_RATIO'] = df['OWN_CAR_AGE'] / df['DAYS_BIRTH']\n",
    "    df['NEW_CAR_TO_EMPLOY_RATIO'] = df['OWN_CAR_AGE'] / df['DAYS_EMPLOYED']\n",
    "    df['NEW_PHONE_TO_BIRTH_RATIO'] = df['DAYS_LAST_PHONE_CHANGE'] / df['DAYS_BIRTH']\n",
    "    df['NEW_PHONE_TO_EMPLOYED_RATIO'] = df['DAYS_LAST_PHONE_CHANGE'] / df['DAYS_EMPLOYED']\n",
    "    df['NEW_CREDIT_TO_INCOME_RATIO'] = df['AMT_CREDIT'] / df['AMT_INCOME_TOTAL']\n",
    "    df['NEW_PAYMENT_RATE'] = df['AMT_ANNUITY'] / df['AMT_CREDIT']\n",
    "    df['NEW_INCOME_CREDIT_PERC'] = df['AMT_INCOME_TOTAL'] / df['AMT_CREDIT']\n",
    "    df['NEW_INCOME_PER_PERSON'] = df['AMT_INCOME_TOTAL'] / df['CNT_FAM_MEMBERS']\n",
    "    \n",
    "    # Categorical features with Binary encode (0 or 1; two categories)\n",
    "    for bin_feature in ['CODE_GENDER', 'FLAG_OWN_CAR', 'FLAG_OWN_REALTY']:\n",
    "        df[bin_feature], uniques = pd.factorize(df[bin_feature])\n",
    "    # Categorical features with One-Hot encode\n",
    "    df, cat_cols = one_hot_encoder(df, nan_as_category)\n",
    "    dropcolum=['FLAG_DOCUMENT_2','FLAG_DOCUMENT_4',\n",
    "    'FLAG_DOCUMENT_5','FLAG_DOCUMENT_6','FLAG_DOCUMENT_7',\n",
    "    'FLAG_DOCUMENT_8','FLAG_DOCUMENT_9','FLAG_DOCUMENT_10', \n",
    "    'FLAG_DOCUMENT_11','FLAG_DOCUMENT_12','FLAG_DOCUMENT_13',\n",
    "    'FLAG_DOCUMENT_14','FLAG_DOCUMENT_15','FLAG_DOCUMENT_16',\n",
    "    'FLAG_DOCUMENT_17','FLAG_DOCUMENT_18','FLAG_DOCUMENT_19',\n",
    "    'FLAG_DOCUMENT_20','FLAG_DOCUMENT_21']\n",
    "    df= df.drop(dropcolum,axis=1)\n",
    "    \n",
    "    gc.collect()\n",
    "    return df\n",
    "\n",
    "# Preprocess bureau.csv and bureau_balance.csv\n",
    "def bureau_and_balance(num_rows = None, nan_as_category = True):\n",
    "    bureau = pd.read_csv(os.path.join(DATA_DIRECTORY, 'bureau.csv'), nrows = num_rows)\n",
    "    bureau = bureau[bureau['SK_ID_CURR'].isin(df.SK_ID_CURR)]\n",
    "    bb = pd.read_csv(os.path.join(DATA_DIRECTORY, 'bureau_balance.csv'), nrows = num_rows)\n",
    "    \n",
    "    bb, bb_cat = one_hot_encoder(bb, nan_as_category)\n",
    "    bureau, bureau_cat = one_hot_encoder(bureau, nan_as_category)\n",
    "    \n",
    "    # Bureau balance: Perform aggregations and merge with bureau.csv\n",
    "    bb_aggregations = {'MONTHS_BALANCE': ['min', 'max', 'size']}\n",
    "    for col in bb_cat:\n",
    "        bb_aggregations[col] = ['mean']\n",
    "    bb_agg = bb.groupby('SK_ID_BUREAU').agg(bb_aggregations)\n",
    "    bb_agg.columns = pd.Index([e[0] + \"_\" + e[1].upper() for e in bb_agg.columns.tolist()])\n",
    "    bureau = bureau.join(bb_agg, how='left', on='SK_ID_BUREAU')\n",
    "    bureau.drop(['SK_ID_BUREAU'], axis=1, inplace= True)\n",
    "    del bb, bb_agg\n",
    "    gc.collect()\n",
    "    \n",
    "    # Bureau and bureau_balance numeric features\n",
    "    num_aggregations = {\n",
    "        'DAYS_CREDIT': [ 'mean', 'var'],\n",
    "        'DAYS_CREDIT_ENDDATE': [ 'mean'],\n",
    "        'DAYS_CREDIT_UPDATE': ['mean'],\n",
    "        'CREDIT_DAY_OVERDUE': ['mean'],\n",
    "        'AMT_CREDIT_MAX_OVERDUE': ['mean'],\n",
    "        'AMT_CREDIT_SUM': [ 'mean', 'sum'],\n",
    "        'AMT_CREDIT_SUM_DEBT': [ 'mean', 'sum'],\n",
    "        'AMT_CREDIT_SUM_OVERDUE': ['mean'],\n",
    "        'AMT_CREDIT_SUM_LIMIT': ['mean', 'sum'],\n",
    "        'AMT_ANNUITY': ['max', 'mean'],\n",
    "        'CNT_CREDIT_PROLONG': ['sum'],\n",
    "        'MONTHS_BALANCE_MIN': ['min'],\n",
    "        'MONTHS_BALANCE_MAX': ['max'],\n",
    "        'MONTHS_BALANCE_SIZE': ['mean', 'sum']\n",
    "    }\n",
    "    # Bureau and bureau_balance categorical features\n",
    "    cat_aggregations = {}\n",
    "    for cat in bureau_cat: cat_aggregations[cat] = ['mean']\n",
    "    for cat in bb_cat: cat_aggregations[cat + \"_MEAN\"] = ['mean']\n",
    "    \n",
    "    bureau_agg = bureau.groupby('SK_ID_CURR').agg({**num_aggregations, **cat_aggregations})\n",
    "    bureau_agg.columns = pd.Index(['BURO_' + e[0] + \"_\" + e[1].upper() for e in bureau_agg.columns.tolist()])\n",
    "    # Bureau: Active credits - using only numerical aggregations\n",
    "    active = bureau[bureau['CREDIT_ACTIVE_Active'] == 1]\n",
    "    active_agg = active.groupby('SK_ID_CURR').agg(num_aggregations)\n",
    "    active_agg.columns = pd.Index(['ACTIVE_' + e[0] + \"_\" + e[1].upper() for e in active_agg.columns.tolist()])\n",
    "    bureau_agg = bureau_agg.join(active_agg, how='left', on='SK_ID_CURR')\n",
    "    del active, active_agg\n",
    "    gc.collect()\n",
    "    # Bureau: Closed credits - using only numerical aggregations\n",
    "    closed = bureau[bureau['CREDIT_ACTIVE_Closed'] == 1]\n",
    "    closed_agg = closed.groupby('SK_ID_CURR').agg(num_aggregations)\n",
    "    closed_agg.columns = pd.Index(['CLOSED_' + e[0] + \"_\" + e[1].upper() for e in closed_agg.columns.tolist()])\n",
    "    bureau_agg = bureau_agg.join(closed_agg, how='left', on='SK_ID_CURR')\n",
    "    del closed, closed_agg, bureau\n",
    "    gc.collect()\n",
    "    return bureau_agg\n",
    "\n",
    "# Preprocess previous_applications.csv\n",
    "def previous_applications(num_rows = None, nan_as_category = True):\n",
    "    prev = pd.read_csv(os.path.join(DATA_DIRECTORY, 'previous_application.csv'), nrows = num_rows)\n",
    "    prev = prev[prev['SK_ID_CURR'].isin(df.SK_ID_CURR)]\n",
    "    prev, cat_cols = one_hot_encoder(prev, nan_as_category= True)\n",
    "    # Days 365.243 values -> nan\n",
    "    prev['DAYS_FIRST_DRAWING'].replace(365243, np.nan, inplace= True)\n",
    "    prev['DAYS_FIRST_DUE'].replace(365243, np.nan, inplace= True)\n",
    "    prev['DAYS_LAST_DUE_1ST_VERSION'].replace(365243, np.nan, inplace= True)\n",
    "    prev['DAYS_LAST_DUE'].replace(365243, np.nan, inplace= True)\n",
    "    prev['DAYS_TERMINATION'].replace(365243, np.nan, inplace= True)\n",
    "    # Add feature: value ask / value received percentage\n",
    "    prev['APP_CREDIT_PERC'] = prev['AMT_APPLICATION'] / prev['AMT_CREDIT']\n",
    "    # Previous applications numeric features\n",
    "    num_aggregations = {\n",
    "        'AMT_ANNUITY': [ 'max', 'mean'],\n",
    "        'AMT_APPLICATION': [ 'max','mean'],\n",
    "        'AMT_CREDIT': [ 'max', 'mean'],\n",
    "        'APP_CREDIT_PERC': [ 'max', 'mean'],\n",
    "        'AMT_DOWN_PAYMENT': [ 'max', 'mean'],\n",
    "        'AMT_GOODS_PRICE': [ 'max', 'mean'],\n",
    "        'HOUR_APPR_PROCESS_START': [ 'max', 'mean'],\n",
    "        'RATE_DOWN_PAYMENT': [ 'max', 'mean'],\n",
    "        'DAYS_DECISION': [ 'max', 'mean'],\n",
    "        'CNT_PAYMENT': ['mean', 'sum'],\n",
    "    }\n",
    "    # Previous applications categorical features\n",
    "    cat_aggregations = {}\n",
    "    for cat in cat_cols:\n",
    "        cat_aggregations[cat] = ['mean']\n",
    "    \n",
    "    prev_agg = prev.groupby('SK_ID_CURR').agg({**num_aggregations, **cat_aggregations})\n",
    "    prev_agg.columns = pd.Index(['PREV_' + e[0] + \"_\" + e[1].upper() for e in prev_agg.columns.tolist()])\n",
    "    # Previous Applications: Approved Applications - only numerical features\n",
    "    approved = prev[prev['NAME_CONTRACT_STATUS_Approved'] == 1]\n",
    "    approved_agg = approved.groupby('SK_ID_CURR').agg(num_aggregations)\n",
    "    approved_agg.columns = pd.Index(['APPROVED_' + e[0] + \"_\" + e[1].upper() for e in approved_agg.columns.tolist()])\n",
    "    prev_agg = prev_agg.join(approved_agg, how='left', on='SK_ID_CURR')\n",
    "    # Previous Applications: Refused Applications - only numerical features\n",
    "    refused = prev[prev['NAME_CONTRACT_STATUS_Refused'] == 1]\n",
    "    refused_agg = refused.groupby('SK_ID_CURR').agg(num_aggregations)\n",
    "    refused_agg.columns = pd.Index(['REFUSED_' + e[0] + \"_\" + e[1].upper() for e in refused_agg.columns.tolist()])\n",
    "    prev_agg = prev_agg.join(refused_agg, how='left', on='SK_ID_CURR')\n",
    "    del refused, refused_agg, approved, approved_agg, prev\n",
    "    gc.collect()\n",
    "    return prev_agg\n",
    "\n",
    "# Preprocess POS_CASH_balance.csv\n",
    "def pos_cash(num_rows = None, nan_as_category = True):\n",
    "    pos = pd.read_csv(os.path.join(DATA_DIRECTORY, 'POS_CASH_balance.csv'), nrows = num_rows)\n",
    "    pos = pos[pos['SK_ID_CURR'].isin(df.SK_ID_CURR)]\n",
    "    pos, cat_cols = one_hot_encoder(pos, nan_as_category= True)\n",
    "    # Features\n",
    "    aggregations = {\n",
    "        'MONTHS_BALANCE': ['max', 'mean', 'size'],\n",
    "        'SK_DPD': ['max', 'mean'],\n",
    "        'SK_DPD_DEF': ['max', 'mean']\n",
    "    }\n",
    "    for cat in cat_cols:\n",
    "        aggregations[cat] = ['mean']\n",
    "    \n",
    "    pos_agg = pos.groupby('SK_ID_CURR').agg(aggregations)\n",
    "    pos_agg.columns = pd.Index(['POS_' + e[0] + \"_\" + e[1].upper() for e in pos_agg.columns.tolist()])\n",
    "    # Count pos cash accounts\n",
    "    pos_agg['POS_COUNT'] = pos.groupby('SK_ID_CURR').size()\n",
    "    del pos\n",
    "    gc.collect()\n",
    "    return pos_agg\n",
    "    \n",
    "# Preprocess installments_payments.csv\n",
    "def installments_payments(num_rows = None, nan_as_category = True):\n",
    "    ins = pd.read_csv(os.path.join(DATA_DIRECTORY, 'installments_payments.csv'), nrows = num_rows)\n",
    "    ins = ins[ins['SK_ID_CURR'].isin(df.SK_ID_CURR)]\n",
    "    \n",
    "    ins, cat_cols = one_hot_encoder(ins, nan_as_category= True)\n",
    "    # Percentage and difference paid in each installment (amount paid and installment value)\n",
    "    ins['PAYMENT_PERC'] = ins['AMT_PAYMENT'] / ins['AMT_INSTALMENT']\n",
    "    ins['PAYMENT_DIFF'] = ins['AMT_INSTALMENT'] - ins['AMT_PAYMENT']\n",
    "    # Days past due and days before due (no negative values)\n",
    "    ins['DPD'] = ins['DAYS_ENTRY_PAYMENT'] - ins['DAYS_INSTALMENT']\n",
    "    ins['DBD'] = ins['DAYS_INSTALMENT'] - ins['DAYS_ENTRY_PAYMENT']\n",
    "    ins['DPD'] = ins['DPD'].apply(lambda x: x if x > 0 else 0)\n",
    "    ins['DBD'] = ins['DBD'].apply(lambda x: x if x > 0 else 0)\n",
    "    # Features: Perform aggregations\n",
    "    aggregations = {\n",
    "        'NUM_INSTALMENT_VERSION': ['nunique'],\n",
    "        'DPD': ['max', 'mean', 'sum'],\n",
    "        'DBD': ['max', 'mean', 'sum'],\n",
    "        'PAYMENT_PERC': [ 'mean',  'var'],\n",
    "        'PAYMENT_DIFF': [ 'mean', 'var'],\n",
    "        'AMT_INSTALMENT': ['max', 'mean', 'sum'],\n",
    "        'AMT_PAYMENT': ['min', 'max', 'mean', 'sum'],\n",
    "        'DAYS_ENTRY_PAYMENT': ['max', 'mean', 'sum']\n",
    "    }\n",
    "    for cat in cat_cols:\n",
    "        aggregations[cat] = ['mean']\n",
    "    ins_agg = ins.groupby('SK_ID_CURR').agg(aggregations)\n",
    "    ins_agg.columns = pd.Index(['INSTAL_' + e[0] + \"_\" + e[1].upper() for e in ins_agg.columns.tolist()])\n",
    "    # Count installments accounts\n",
    "    ins_agg['INSTAL_COUNT'] = ins.groupby('SK_ID_CURR').size()\n",
    "    del ins\n",
    "    gc.collect()\n",
    "    return ins_agg\n",
    "\n",
    "# Preprocess credit_card_balance.csv\n",
    "def credit_card_balance(num_rows = None, nan_as_category = True):\n",
    "    cc = pd.read_csv(os.path.join(DATA_DIRECTORY, 'credit_card_balance.csv'), nrows = num_rows)\n",
    "    cc = cc[cc['SK_ID_CURR'].isin(df.SK_ID_CURR)]\n",
    "    \n",
    "    cc, cat_cols = one_hot_encoder(cc, nan_as_category= True)\n",
    "    # General aggregations\n",
    "    cc.drop(['SK_ID_PREV'], axis= 1, inplace = True)\n",
    "    cc_agg = cc.groupby('SK_ID_CURR').agg([ 'max', 'mean', 'sum', 'var'])\n",
    "    cc_agg.columns = pd.Index(['CC_' + e[0] + \"_\" + e[1].upper() for e in cc_agg.columns.tolist()])\n",
    "    # Count credit card lines\n",
    "    cc_agg['CC_COUNT'] = cc.groupby('SK_ID_CURR').size()\n",
    "    del cc\n",
    "    gc.collect()\n",
    "    return cc_agg\n"
   ]
  },
  {
   "cell_type": "code",
   "execution_count": 5,
   "metadata": {
    "_uuid": "df3cff7e18aab7aa557fee02d75ea10e2f014e33",
    "tags": []
   },
   "outputs": [],
   "source": [
    "# LightGBM GBDT with KFold or Stratified KFold\n",
    "# Parameters from Tilii kernel: https://www.kaggle.com/tilii7/olivier-lightgbm-parameters-by-bayesian-opt/code\n",
    "def kfold_lightgbm(train_df, train_target, test_df, num_folds, stratified=False, debug=False):\n",
    "    print(\"Starting LightGBM. Train shape: {}, test shape: {}\".format(train_df.shape, test_df.shape))\n",
    "    # Cross validation model\n",
    "    if stratified:\n",
    "        folds = StratifiedKFold(n_splits=num_folds, shuffle=True, random_state=47)\n",
    "    else:\n",
    "        folds = KFold(n_splits= num_folds, shuffle=True, random_state=47)\n",
    "    # Create arrays and dataframes to store results\n",
    "    oof_preds = np.zeros(train_df.shape[0])\n",
    "    sub_preds = np.zeros(test_df.shape[0])\n",
    "    \n",
    "    scores = []\n",
    "    models = []\n",
    "    \n",
    "    for n_fold, (train_idx, valid_idx) in enumerate(folds.split(train_df, train_target)):\n",
    "        train_x, train_y = train_df.iloc[train_idx], train_target.iloc[train_idx]\n",
    "        valid_x, valid_y = train_df.iloc[valid_idx], train_target.iloc[valid_idx]\n",
    "\n",
    "        # LightGBM parameters found by Bayesian optimization\n",
    "        clf = LGBMClassifier(\n",
    "            nthread=4,\n",
    "            #is_unbalance=True,\n",
    "            n_estimators=10000,\n",
    "            learning_rate=0.02,\n",
    "            num_leaves=32,\n",
    "            colsample_bytree=0.9497036,\n",
    "            subsample=0.8715623,\n",
    "            max_depth=8,\n",
    "            reg_alpha=0.04,\n",
    "            reg_lambda=0.073,\n",
    "            min_split_gain=0.0222415,\n",
    "            min_child_weight=40,\n",
    "            silent=-1,\n",
    "            verbose=-1,\n",
    "            #scale_pos_weight=11\n",
    "            )\n",
    "\n",
    "        clf.fit(train_x, train_y, eval_set=[(train_x, train_y), (valid_x, valid_y)], \n",
    "            eval_metric= 'auc', verbose= 1000, early_stopping_rounds= 300)\n",
    "\n",
    "        oof_preds[valid_idx] = clf.predict_proba(valid_x, num_iteration=clf.best_iteration_)[:, 1]\n",
    "        sub_preds += clf.predict_proba(test_df, num_iteration=clf.best_iteration_)[:, 1] / folds.n_splits\n",
    "\n",
    "        \n",
    "        print(roc_auc_score(valid_y, oof_preds[valid_idx]))\n",
    "        scores.append(roc_auc_score(valid_y, oof_preds[valid_idx]))\n",
    "        print('Fold %2d AUC : %.6f' % (n_fold + 1, scores[n_fold]))\n",
    "        models.append(clf)\n",
    "        del clf, train_x, train_y, valid_x, valid_y\n",
    "        gc.collect()\n",
    "\n",
    "    score = roc_auc_score(train_target, oof_preds)\n",
    "    print('Full AUC score %.6f' % score)\n",
    "    print('Mean AUC score %.6f' % np.mean(scores))\n",
    "    # Write submission file and plot feature importance\n",
    "\n",
    "    return  models, scores\n",
    "\n"
   ]
  },
  {
   "cell_type": "code",
   "execution_count": 6,
   "metadata": {
    "_uuid": "6bc3adfe8b0cb05d36519bb96b82025f1ca80ab8",
    "tags": []
   },
   "outputs": [
    {
     "name": "stdout",
     "output_type": "stream",
     "text": [
      "Bureau df shape: (45688, 91)\n",
      "Process bureau and bureau_balance - done in 30s\n",
      "Previous applications df shape: (50975, 217)\n",
      "Process previous_applications - done in 14s\n",
      "Pos-cash balance df shape: (50621, 17)\n",
      "Process POS-CASH balance - done in 9s\n",
      "Installments payments df shape: (51120, 22)\n",
      "Process installments payments - done in 19s\n",
      "Credit card balance df shape: (17441, 113)\n",
      "Process credit card balance - done in 15s\n",
      "Save df - done in 90s\n",
      "Train samples: 40110, test samples: 13371\n",
      "Train TARGET minority %: , 0.10%\n",
      "Test TARGET minority %: , 0.10%\n",
      "Divide in training and test data - done in 1s\n",
      "Wall time: 3min 36s\n"
     ]
    }
   ],
   "source": [
    "%%time\n",
    "debug = False\n",
    "num_rows = 10000 if debug else None\n",
    "#scores = {}\n",
    "\n",
    "df = application_train_test(num_rows)\n",
    "with timer(\"Process bureau and bureau_balance\"):\n",
    "    bureau = bureau_and_balance(num_rows)\n",
    "    print(\"Bureau df shape:\", bureau.shape)\n",
    "    df = df.join(bureau, how='left', on='SK_ID_CURR')\n",
    "    del bureau\n",
    "    gc.collect()\n",
    "with timer(\"Process previous_applications\"):\n",
    "    prev = previous_applications(num_rows)\n",
    "    print(\"Previous applications df shape:\", prev.shape)\n",
    "    df = df.join(prev, how='left', on='SK_ID_CURR')\n",
    "    del prev\n",
    "    gc.collect()\n",
    "with timer(\"Process POS-CASH balance\"):\n",
    "    pos = pos_cash(num_rows)\n",
    "    print(\"Pos-cash balance df shape:\", pos.shape)\n",
    "    df = df.join(pos, how='left', on='SK_ID_CURR')\n",
    "    del pos\n",
    "    gc.collect()\n",
    "with timer(\"Process installments payments\"):\n",
    "    ins = installments_payments(num_rows)\n",
    "    print(\"Installments payments df shape:\", ins.shape)\n",
    "    df = df.join(ins, how='left', on='SK_ID_CURR')\n",
    "    del ins\n",
    "    gc.collect()\n",
    "with timer(\"Process credit card balance\"):\n",
    "    cc = credit_card_balance(num_rows)\n",
    "    print(\"Credit card balance df shape:\", cc.shape)\n",
    "    df = df.join(cc, how='left', on='SK_ID_CURR')\n",
    "    del cc\n",
    "    gc.collect()\n",
    "with timer(\"Save df\"):\n",
    "    df.to_csv('merged_df.csv.gz', compression='gzip', index=False)\n",
    "with timer(\"Divide in training and test data\"):\n",
    "    df = df.rename(columns = lambda x:re.sub('[^A-Za-z0-9_]+', '', x))\n",
    "    \n",
    "    feats = [f for f in df.set_index('SK_ID_CURR').columns if f not in ['TARGET','SK_ID_BUREAU','SK_ID_PREV', 'index']]\n",
    "    \n",
    "    \n",
    "    \n",
    "    train_df, test_df = train_test_split(df.set_index('SK_ID_CURR'))\n",
    "        \n",
    "    print(\"Train samples: {}, test samples: {}\".format(len(train_df), len(test_df)))\n",
    "    print(\"Train TARGET minority %: ,\",\"{0:.2f}%\".format( len(train_df[train_df['TARGET']==1])/ len(train_df))) \n",
    "    print(\"Test TARGET minority %: ,\", \"{0:.2f}%\".format(len(test_df[test_df['TARGET']==1])/ len(test_df)))            \n",
    "    \n",
    "    train_target = train_df['TARGET']\n",
    "    test_target = test_df['TARGET']\n",
    "    \n",
    "    train_df = train_df[feats]\n",
    "    test_df = test_df[feats]\n",
    "    del df\n",
    "    gc.collect()"
   ]
  },
  {
   "cell_type": "code",
   "execution_count": 7,
   "metadata": {
    "_uuid": "54623535cd946bb28baa915a5393161c9aa03baa",
    "tags": []
   },
   "outputs": [
    {
     "name": "stdout",
     "output_type": "stream",
     "text": [
      "Starting LightGBM. Train shape: (40110, 705), test shape: (13371, 705)\n",
      "[LightGBM] [Warning] num_threads is set with n_jobs=-1, nthread=4 will be ignored. Current value: num_threads=-1\n",
      "Training until validation scores don't improve for 300 rounds\n",
      "Early stopping, best iteration is:\n",
      "[574]\ttraining's auc: 0.917027\ttraining's binary_logloss: 0.216105\tvalid_1's auc: 0.783045\tvalid_1's binary_logloss: 0.268274\n",
      "0.78304461971433\n",
      "Fold  1 AUC : 0.783045\n",
      "[LightGBM] [Warning] num_threads is set with n_jobs=-1, nthread=4 will be ignored. Current value: num_threads=-1\n",
      "Training until validation scores don't improve for 300 rounds\n",
      "Early stopping, best iteration is:\n",
      "[474]\ttraining's auc: 0.907145\ttraining's binary_logloss: 0.219469\tvalid_1's auc: 0.781052\tvalid_1's binary_logloss: 0.288161\n",
      "0.7810520440909725\n",
      "Fold  2 AUC : 0.781052\n",
      "[LightGBM] [Warning] num_threads is set with n_jobs=-1, nthread=4 will be ignored. Current value: num_threads=-1\n",
      "Training until validation scores don't improve for 300 rounds\n",
      "Early stopping, best iteration is:\n",
      "[290]\ttraining's auc: 0.882123\ttraining's binary_logloss: 0.234397\tvalid_1's auc: 0.769142\tvalid_1's binary_logloss: 0.295024\n",
      "0.7691423005570357\n",
      "Fold  3 AUC : 0.769142\n",
      "[LightGBM] [Warning] num_threads is set with n_jobs=-1, nthread=4 will be ignored. Current value: num_threads=-1\n",
      "Training until validation scores don't improve for 300 rounds\n",
      "Early stopping, best iteration is:\n",
      "[613]\ttraining's auc: 0.924535\ttraining's binary_logloss: 0.208741\tvalid_1's auc: 0.783421\tvalid_1's binary_logloss: 0.285512\n",
      "0.7834213106353914\n",
      "Fold  4 AUC : 0.783421\n",
      "[LightGBM] [Warning] num_threads is set with n_jobs=-1, nthread=4 will be ignored. Current value: num_threads=-1\n",
      "Training until validation scores don't improve for 300 rounds\n",
      "Early stopping, best iteration is:\n",
      "[476]\ttraining's auc: 0.906325\ttraining's binary_logloss: 0.221707\tvalid_1's auc: 0.79447\tvalid_1's binary_logloss: 0.276234\n",
      "0.7944696069246033\n",
      "Fold  5 AUC : 0.794470\n",
      "Full AUC score 0.781899\n",
      "Mean AUC score 0.782226\n",
      "Wall time: 6min 10s\n"
     ]
    }
   ],
   "source": [
    "%%time\n",
    "models, scores = kfold_lightgbm(train_df, train_target, test_df, num_folds=5, stratified=False, debug=debug)"
   ]
  },
  {
   "cell_type": "code",
   "execution_count": 8,
   "metadata": {},
   "outputs": [
    {
     "data": {
      "text/plain": [
       "[0.78304461971433,\n",
       " 0.7810520440909725,\n",
       " 0.7691423005570357,\n",
       " 0.7834213106353914,\n",
       " 0.7944696069246033]"
      ]
     },
     "execution_count": 8,
     "metadata": {},
     "output_type": "execute_result"
    }
   ],
   "source": [
    "scores"
   ]
  },
  {
   "cell_type": "code",
   "execution_count": 9,
   "metadata": {},
   "outputs": [
    {
     "data": {
      "text/plain": [
       "[LGBMClassifier(colsample_bytree=0.9497036, learning_rate=0.02, max_depth=8,\n",
       "                min_child_weight=40, min_split_gain=0.0222415,\n",
       "                n_estimators=10000, nthread=4, num_leaves=32, reg_alpha=0.04,\n",
       "                reg_lambda=0.073, silent=-1, subsample=0.8715623, verbose=-1),\n",
       " LGBMClassifier(colsample_bytree=0.9497036, learning_rate=0.02, max_depth=8,\n",
       "                min_child_weight=40, min_split_gain=0.0222415,\n",
       "                n_estimators=10000, nthread=4, num_leaves=32, reg_alpha=0.04,\n",
       "                reg_lambda=0.073, silent=-1, subsample=0.8715623, verbose=-1),\n",
       " LGBMClassifier(colsample_bytree=0.9497036, learning_rate=0.02, max_depth=8,\n",
       "                min_child_weight=40, min_split_gain=0.0222415,\n",
       "                n_estimators=10000, nthread=4, num_leaves=32, reg_alpha=0.04,\n",
       "                reg_lambda=0.073, silent=-1, subsample=0.8715623, verbose=-1),\n",
       " LGBMClassifier(colsample_bytree=0.9497036, learning_rate=0.02, max_depth=8,\n",
       "                min_child_weight=40, min_split_gain=0.0222415,\n",
       "                n_estimators=10000, nthread=4, num_leaves=32, reg_alpha=0.04,\n",
       "                reg_lambda=0.073, silent=-1, subsample=0.8715623, verbose=-1),\n",
       " LGBMClassifier(colsample_bytree=0.9497036, learning_rate=0.02, max_depth=8,\n",
       "                min_child_weight=40, min_split_gain=0.0222415,\n",
       "                n_estimators=10000, nthread=4, num_leaves=32, reg_alpha=0.04,\n",
       "                reg_lambda=0.073, silent=-1, subsample=0.8715623, verbose=-1)]"
      ]
     },
     "execution_count": 9,
     "metadata": {},
     "output_type": "execute_result"
    }
   ],
   "source": [
    "models"
   ]
  },
  {
   "cell_type": "markdown",
   "metadata": {},
   "source": [
    "# export"
   ]
  },
  {
   "cell_type": "code",
   "execution_count": 11,
   "metadata": {},
   "outputs": [],
   "source": [
    "train_df2 = train_df.copy()\n",
    "test_df2 = test_df.copy()\n"
   ]
  },
  {
   "cell_type": "code",
   "execution_count": 12,
   "metadata": {},
   "outputs": [],
   "source": [
    "import joblib"
   ]
  },
  {
   "cell_type": "code",
   "execution_count": 13,
   "metadata": {},
   "outputs": [
    {
     "data": {
      "text/plain": [
       "['lgb.pkl']"
      ]
     },
     "execution_count": 13,
     "metadata": {},
     "output_type": "execute_result"
    }
   ],
   "source": [
    "joblib.dump(models[0], 'lgb.pkl')"
   ]
  },
  {
   "cell_type": "code",
   "execution_count": 14,
   "metadata": {},
   "outputs": [],
   "source": [
    "train_df2['TARGET'] = train_target"
   ]
  },
  {
   "cell_type": "code",
   "execution_count": 15,
   "metadata": {},
   "outputs": [],
   "source": [
    "test_df2['TARGET'] = test_target"
   ]
  },
  {
   "cell_type": "code",
   "execution_count": 16,
   "metadata": {},
   "outputs": [],
   "source": [
    "train_df2.to_pickle(\"train_df.pkl\")"
   ]
  },
  {
   "cell_type": "code",
   "execution_count": 17,
   "metadata": {},
   "outputs": [],
   "source": [
    "test_df2.to_pickle(\"test_df.pkl\")"
   ]
  },
  {
   "cell_type": "code",
   "execution_count": 18,
   "metadata": {},
   "outputs": [],
   "source": [
    "y_proba = models[0].predict_proba(test_df, num_iteration=models[0].best_iteration_)[:, 1]"
   ]
  },
  {
   "cell_type": "code",
   "execution_count": 19,
   "metadata": {},
   "outputs": [],
   "source": [
    "y_predict = models[0].predict(test_df, num_iteration=models[0].best_iteration_)"
   ]
  },
  {
   "cell_type": "markdown",
   "metadata": {},
   "source": [
    "# try to get optimiser function"
   ]
  },
  {
   "cell_type": "code",
   "execution_count": null,
   "metadata": {},
   "outputs": [],
   "source": []
  },
  {
   "cell_type": "code",
   "execution_count": null,
   "metadata": {},
   "outputs": [],
   "source": [
    "y_test = test_target.copy()"
   ]
  },
  {
   "cell_type": "code",
   "execution_count": null,
   "metadata": {},
   "outputs": [],
   "source": [
    "temp = test_df.copy()"
   ]
  },
  {
   "cell_type": "code",
   "execution_count": null,
   "metadata": {},
   "outputs": [],
   "source": [
    "temp['y_proba'] = y_proba"
   ]
  },
  {
   "cell_type": "code",
   "execution_count": null,
   "metadata": {},
   "outputs": [],
   "source": [
    "temp['y_predict'] = y_predict"
   ]
  },
  {
   "cell_type": "code",
   "execution_count": null,
   "metadata": {},
   "outputs": [],
   "source": [
    "temp['y_proba'].describe(percentiles = [0.1, 0.85])"
   ]
  },
  {
   "cell_type": "code",
   "execution_count": null,
   "metadata": {},
   "outputs": [],
   "source": [
    "temp['y_predict'].value_counts()"
   ]
  },
  {
   "cell_type": "code",
   "execution_count": null,
   "metadata": {},
   "outputs": [],
   "source": [
    "temp[temp['y_predict']==1]['y_proba'].max()"
   ]
  },
  {
   "cell_type": "code",
   "execution_count": null,
   "metadata": {},
   "outputs": [],
   "source": []
  },
  {
   "cell_type": "code",
   "execution_count": null,
   "metadata": {},
   "outputs": [],
   "source": [
    "# get the ratio of default\n",
    "default_ratio = len(train_df2[train_df2['TARGET']==1])/len(train_df2)"
   ]
  },
  {
   "cell_type": "code",
   "execution_count": null,
   "metadata": {},
   "outputs": [],
   "source": []
  },
  {
   "cell_type": "code",
   "execution_count": null,
   "metadata": {},
   "outputs": [],
   "source": [
    "print(temp.sort_values('y_proba', ascending=False).iloc[:int(default_ratio* len(temp))]['TARGET'].value_counts())"
   ]
  },
  {
   "cell_type": "code",
   "execution_count": null,
   "metadata": {},
   "outputs": [],
   "source": [
    "temp.sort_values('y_proba', ascending=False).iloc[:int(default_ratio* len(temp))]['y_proba'].min()"
   ]
  },
  {
   "cell_type": "code",
   "execution_count": null,
   "metadata": {},
   "outputs": [],
   "source": [
    "temp.sort_values('y_proba', ascending=False).iloc[:1-(int(default_ratio* len(temp)))]['TARGET'].value_counts()"
   ]
  },
  {
   "cell_type": "code",
   "execution_count": null,
   "metadata": {},
   "outputs": [],
   "source": []
  },
  {
   "cell_type": "code",
   "execution_count": null,
   "metadata": {},
   "outputs": [],
   "source": [
    "avg_lost_per_default = -100\n",
    "avg_gain_per_good_customer = 1\n",
    "\n",
    "temp['value_lost'] = np.where(temp['TARGET']==1, avg_lost_per_default, avg_gain_per_good_customer)"
   ]
  },
  {
   "cell_type": "code",
   "execution_count": null,
   "metadata": {},
   "outputs": [],
   "source": [
    "from scipy.optimize import minimize_scalar\n",
    "\n"
   ]
  },
  {
   "cell_type": "code",
   "execution_count": null,
   "metadata": {},
   "outputs": [],
   "source": [
    "346"
   ]
  },
  {
   "cell_type": "code",
   "execution_count": null,
   "metadata": {},
   "outputs": [],
   "source": [
    "# !! MENTOR function to minimise lost"
   ]
  },
  {
   "cell_type": "code",
   "execution_count": null,
   "metadata": {},
   "outputs": [],
   "source": []
  },
  {
   "cell_type": "code",
   "execution_count": null,
   "metadata": {},
   "outputs": [],
   "source": []
  },
  {
   "cell_type": "code",
   "execution_count": null,
   "metadata": {},
   "outputs": [],
   "source": [
    "y_proba"
   ]
  },
  {
   "cell_type": "markdown",
   "metadata": {},
   "source": [
    "explain"
   ]
  },
  {
   "cell_type": "code",
   "execution_count": null,
   "metadata": {},
   "outputs": [],
   "source": []
  },
  {
   "cell_type": "code",
   "execution_count": null,
   "metadata": {},
   "outputs": [],
   "source": [
    "from explainerdashboard import ExplainerDashboard"
   ]
  },
  {
   "cell_type": "code",
   "execution_count": null,
   "metadata": {},
   "outputs": [],
   "source": [
    "pd.DataFrame([models[0].feature_importances_], columns= [models[0].feature_name_], ).melt().sort_values('value', ascending=False).head(30)"
   ]
  },
  {
   "cell_type": "code",
   "execution_count": null,
   "metadata": {},
   "outputs": [],
   "source": [
    "models[0].feature_name_"
   ]
  },
  {
   "cell_type": "code",
   "execution_count": null,
   "metadata": {},
   "outputs": [],
   "source": []
  },
  {
   "cell_type": "code",
   "execution_count": null,
   "metadata": {},
   "outputs": [],
   "source": []
  },
  {
   "cell_type": "code",
   "execution_count": null,
   "metadata": {},
   "outputs": [],
   "source": []
  },
  {
   "cell_type": "code",
   "execution_count": null,
   "metadata": {},
   "outputs": [],
   "source": []
  },
  {
   "cell_type": "code",
   "execution_count": null,
   "metadata": {},
   "outputs": [],
   "source": [
    "asd"
   ]
  },
  {
   "cell_type": "markdown",
   "metadata": {},
   "source": [
    "## ROC curve"
   ]
  },
  {
   "cell_type": "code",
   "execution_count": 30,
   "metadata": {},
   "outputs": [],
   "source": [
    "from sklearn import metrics"
   ]
  },
  {
   "cell_type": "code",
   "execution_count": 31,
   "metadata": {},
   "outputs": [],
   "source": [
    "\n",
    "\n",
    "from sklearn.metrics import confusion_matrix"
   ]
  },
  {
   "cell_type": "code",
   "execution_count": 23,
   "metadata": {},
   "outputs": [],
   "source": [
    "y_proba = models[0].predict_proba(test_df, num_iteration=models[0].best_iteration_)[:, 1]"
   ]
  },
  {
   "cell_type": "code",
   "execution_count": 24,
   "metadata": {},
   "outputs": [],
   "source": [
    "y_test = test_target.copy()"
   ]
  },
  {
   "cell_type": "code",
   "execution_count": null,
   "metadata": {},
   "outputs": [],
   "source": []
  },
  {
   "cell_type": "code",
   "execution_count": 25,
   "metadata": {},
   "outputs": [],
   "source": [
    "fpr, tpr, threshold = metrics.roc_curve(y_test, y_proba)\n",
    "roc_auc = metrics.auc(fpr, tpr)"
   ]
  },
  {
   "cell_type": "code",
   "execution_count": 26,
   "metadata": {},
   "outputs": [
    {
     "data": {
      "image/png": "[encoded data removed]",
      "text/plain": [
       "<Figure size 432x288 with 1 Axes>"
      ]
     },
     "metadata": {
      "needs_background": "light"
     },
     "output_type": "display_data"
    }
   ],
   "source": [
    "# plot roc curve\n",
    "import matplotlib.pyplot as plt\n",
    "plt.title('Roc curve')\n",
    "plt.plot(fpr, tpr, 'b', label = 'AUC = %0.2f' % roc_auc)\n",
    "plt.legend(loc = 'lower right')\n",
    "plt.plot([0, 1], [0, 1],'r--')\n",
    "plt.xlim([0, 1])\n",
    "plt.ylim([0, 1])\n",
    "plt.ylabel('True Positive Rate')\n",
    "plt.xlabel('False Positive Rate')\n",
    "plt.show()\n",
    "\n"
   ]
  },
  {
   "cell_type": "code",
   "execution_count": 27,
   "metadata": {
    "tags": []
   },
   "outputs": [],
   "source": [
    "test_df2['y_proba'] = y_proba"
   ]
  },
  {
   "cell_type": "code",
   "execution_count": 28,
   "metadata": {},
   "outputs": [
    {
     "data": {
      "text/plain": [
       "0.7770317874052084"
      ]
     },
     "execution_count": 28,
     "metadata": {},
     "output_type": "execute_result"
    }
   ],
   "source": [
    "roc_auc"
   ]
  },
  {
   "cell_type": "code",
   "execution_count": 32,
   "metadata": {},
   "outputs": [
    {
     "data": {
      "text/plain": [
       "13371"
      ]
     },
     "execution_count": 32,
     "metadata": {},
     "output_type": "execute_result"
    }
   ],
   "source": [
    "len(test_df2)"
   ]
  },
  {
   "cell_type": "code",
   "execution_count": 30,
   "metadata": {},
   "outputs": [
    {
     "data": {
      "text/plain": [
       "count    13371.000000\n",
       "mean         0.103010\n",
       "std          0.111715\n",
       "min          0.003692\n",
       "25%          0.029681\n",
       "50%          0.060649\n",
       "75%          0.130984\n",
       "max          0.817838\n",
       "Name: y_proba, dtype: float64"
      ]
     },
     "execution_count": 30,
     "metadata": {},
     "output_type": "execute_result"
    }
   ],
   "source": [
    "test_df2.y_proba.describe()"
   ]
  },
  {
   "cell_type": "code",
   "execution_count": 34,
   "metadata": {},
   "outputs": [
    {
     "data": {
      "text/plain": [
       "0    11998\n",
       "1     1373\n",
       "Name: TARGET, dtype: int64"
      ]
     },
     "execution_count": 34,
     "metadata": {},
     "output_type": "execute_result"
    }
   ],
   "source": [
    "test_df2['TARGET'].value_counts()"
   ]
  },
  {
   "cell_type": "code",
   "execution_count": 35,
   "metadata": {},
   "outputs": [],
   "source": [
    "from sklearn.metrics import confusion_matrix"
   ]
  },
  {
   "cell_type": "code",
   "execution_count": 36,
   "metadata": {},
   "outputs": [],
   "source": [
    "test_df2['y_proba2'] = np.where(test_df2['y_proba']>= (1-roc_auc), 1 , 0)"
   ]
  },
  {
   "cell_type": "code",
   "execution_count": 37,
   "metadata": {},
   "outputs": [
    {
     "data": {
      "image/png": "[encoded data removed]",
      "text/plain": [
       "<Figure size 432x288 with 1 Axes>"
      ]
     },
     "metadata": {
      "needs_background": "light"
     },
     "output_type": "display_data"
    }
   ],
   "source": [
    "from sklearn.metrics import confusion_matrix\n",
    "import seaborn as sns\n",
    "mat = confusion_matrix(y_test, y_predict)\n",
    "sns.heatmap(mat.T, square=True, annot=True, fmt='d', cbar=False)\n",
    "plt.xlabel('true label')\n",
    "plt.ylabel('predicted label');"
   ]
  },
  {
   "cell_type": "code",
   "execution_count": 38,
   "metadata": {},
   "outputs": [
    {
     "data": {
      "image/png": "[encoded data removed]",
      "text/plain": [
       "<Figure size 432x288 with 1 Axes>"
      ]
     },
     "metadata": {
      "needs_background": "light"
     },
     "output_type": "display_data"
    }
   ],
   "source": [
    "from sklearn.metrics import confusion_matrix\n",
    "import seaborn as sns\n",
    "mat = confusion_matrix(y_test, test_df2['y_proba2'])\n",
    "sns.heatmap(mat.T, square=True, annot=True, fmt='d', cbar=False)\n",
    "plt.xlabel('true label')\n",
    "plt.ylabel('predicted label');"
   ]
  },
  {
   "cell_type": "code",
   "execution_count": null,
   "metadata": {},
   "outputs": [],
   "source": []
  },
  {
   "cell_type": "code",
   "execution_count": 42,
   "metadata": {},
   "outputs": [
    {
     "data": {
      "text/plain": [
       "0    11692\n",
       "1     1679\n",
       "Name: y_proba2, dtype: int64"
      ]
     },
     "execution_count": 42,
     "metadata": {},
     "output_type": "execute_result"
    }
   ],
   "source": [
    "test_df2.y_proba2.value_counts()"
   ]
  },
  {
   "cell_type": "code",
   "execution_count": null,
   "metadata": {},
   "outputs": [],
   "source": [
    "test_df2['finance'] = np.nan"
   ]
  },
  {
   "cell_type": "code",
   "execution_count": 50,
   "metadata": {},
   "outputs": [
    {
     "data": {
      "text/plain": [
       "27454.840857078754"
      ]
     },
     "execution_count": 50,
     "metadata": {},
     "output_type": "execute_result"
    }
   ],
   "source": [
    "test_df2.AMT_CREDIT.mean() *0.05"
   ]
  },
  {
   "cell_type": "markdown",
   "metadata": {},
   "source": [
    "### reloading"
   ]
  },
  {
   "cell_type": "code",
   "execution_count": 136,
   "metadata": {},
   "outputs": [],
   "source": [
    "data_directory = r'C:\\Users\\juvaugha\\Documents\\PYTHON\\OPCR PROJECTS\\projet 7\\pickled/'\n",
    "\n",
    "# import df and model\n",
    "model = joblib.load(data_directory + 'lgb.pkl')\n",
    "\n",
    "train_df = pd.read_pickle(data_directory + \"train_df.pkl\")\n",
    "test_df = pd.read_pickle((data_directory + \"test_df.pkl\"))"
   ]
  },
  {
   "cell_type": "code",
   "execution_count": 137,
   "metadata": {},
   "outputs": [],
   "source": [
    "test_df2 = test_df.copy()"
   ]
  },
  {
   "cell_type": "code",
   "execution_count": 138,
   "metadata": {},
   "outputs": [],
   "source": [
    "avg_lost_per_default = -(test_df2.AMT_CREDIT.mean() *0.50)\n",
    "avg_gain_per_good_customer = test_df2.AMT_CREDIT.mean() *0.05"
   ]
  },
  {
   "cell_type": "code",
   "execution_count": 139,
   "metadata": {},
   "outputs": [],
   "source": [
    "proba_diff = [-.2, -0.1, -.05, 0, 0.5, 0.1, 2]"
   ]
  },
  {
   "cell_type": "code",
   "execution_count": 140,
   "metadata": {},
   "outputs": [],
   "source": [
    "y_proba = model.predict_proba(test_df.drop(columns = ['TARGET',]), num_iteration=model.best_iteration_)[:, 1]"
   ]
  },
  {
   "cell_type": "code",
   "execution_count": 141,
   "metadata": {},
   "outputs": [
    {
     "data": {
      "text/plain": [
       "Int64Index([439442, 340600, 157696, 266672, 378316, 108209, 321084, 439094,\n",
       "            326816, 125762,\n",
       "            ...\n",
       "            141930, 291111, 236488, 373952, 221009, 443603, 351791, 432494,\n",
       "            275491, 348215],\n",
       "           dtype='int64', name='SK_ID_CURR', length=13371)"
      ]
     },
     "execution_count": 141,
     "metadata": {},
     "output_type": "execute_result"
    }
   ],
   "source": [
    "test_df.index"
   ]
  },
  {
   "cell_type": "code",
   "execution_count": 144,
   "metadata": {},
   "outputs": [],
   "source": [
    "ind = 157696"
   ]
  },
  {
   "cell_type": "code",
   "execution_count": 146,
   "metadata": {},
   "outputs": [
    {
     "data": {
      "text/plain": [
       "array([0.1623608])"
      ]
     },
     "execution_count": 146,
     "metadata": {},
     "output_type": "execute_result"
    }
   ],
   "source": [
    "model.predict_proba(test_df.loc[[ind]].drop(columns = ['TARGET',]), num_iteration=model.best_iteration_)[:, 1]"
   ]
  },
  {
   "cell_type": "code",
   "execution_count": 143,
   "metadata": {},
   "outputs": [
    {
     "data": {
      "text/plain": [
       "array([0.1623608])"
      ]
     },
     "execution_count": 143,
     "metadata": {},
     "output_type": "execute_result"
    }
   ],
   "source": [
    "y_proba = model.predict_proba(test_df.drop(columns = ['TARGET',]), num_iteration=model.best_iteration_)[:, 1]"
   ]
  },
  {
   "cell_type": "code",
   "execution_count": 147,
   "metadata": {},
   "outputs": [],
   "source": [
    "train_proba = model.predict_proba(train_df.drop(columns = ['TARGET',]), num_iteration=model.best_iteration_)[:, 1]"
   ]
  },
  {
   "cell_type": "code",
   "execution_count": null,
   "metadata": {},
   "outputs": [],
   "source": []
  },
  {
   "cell_type": "code",
   "execution_count": 111,
   "metadata": {},
   "outputs": [],
   "source": [
    "test_df2['y_proba'] = y_proba"
   ]
  },
  {
   "cell_type": "code",
   "execution_count": 112,
   "metadata": {},
   "outputs": [],
   "source": [
    "test_df2['y_proba2'] = np.where(test_df2['y_proba']>= (1-roc_auc), 1 , 0)"
   ]
  },
  {
   "cell_type": "code",
   "execution_count": 113,
   "metadata": {},
   "outputs": [],
   "source": [
    "fpr, tpr, threshold = metrics.roc_curve(test_df2['TARGET'], y_proba, )\n",
    "roc_auc = metrics.auc(fpr, tpr)"
   ]
  },
  {
   "cell_type": "code",
   "execution_count": 114,
   "metadata": {},
   "outputs": [
    {
     "data": {
      "text/plain": [
       "0.7770317874052084"
      ]
     },
     "execution_count": 114,
     "metadata": {},
     "output_type": "execute_result"
    }
   ],
   "source": [
    "roc_auc"
   ]
  },
  {
   "cell_type": "code",
   "execution_count": 115,
   "metadata": {},
   "outputs": [],
   "source": [
    "def find_optimal_proba(optimal_proba, avg_lost_per_default, avg_gain_per_good_customer):\n",
    "    test_df2['finance'] = np.nan   \n",
    "    test_df2['y_proba2'] = np.where(test_df2['y_proba']>= (1- optimal_proba), 1 , 0)\n",
    "\n",
    "\n",
    "    test_df2['finance'] = np.where((test_df2['TARGET']==0) & (test_df2['y_proba2']==0), avg_gain_per_good_customer, test_df2['finance'])\n",
    "    test_df2['finance'] = np.where((test_df2['TARGET']==0) & (test_df2['y_proba2']==1), -avg_gain_per_good_customer, test_df2['finance'])\n",
    "    test_df2['finance'] = np.where((test_df2['TARGET']==1) & (test_df2['y_proba2']==0), avg_lost_per_default, test_df2['finance'])\n",
    "    test_df2['finance'] = np.where((test_df2['TARGET']==1) & (test_df2['y_proba2']==1), -avg_lost_per_default, test_df2['finance'])\n",
    "\n",
    "    return (test_df2['finance'].sum())"
   ]
  },
  {
   "cell_type": "code",
   "execution_count": 3,
   "metadata": {},
   "outputs": [],
   "source": [
    "from scipy.optimize import minimize \n"
   ]
  },
  {
   "cell_type": "code",
   "execution_count": 38,
   "metadata": {},
   "outputs": [
    {
     "ename": "NameError",
     "evalue": "name 'x0' is not defined",
     "output_type": "error",
     "traceback": [
      "\u001b[1;31m---------------------------------------------------------------------------\u001b[0m",
      "\u001b[1;31mNameError\u001b[0m                                 Traceback (most recent call last)",
      "\u001b[1;32m<ipython-input-38-fb01f02cdf4a>\u001b[0m in \u001b[0;36m<module>\u001b[1;34m\u001b[0m\n\u001b[1;32m----> 1\u001b[1;33m \u001b[0mminimize\u001b[0m\u001b[1;33m(\u001b[0m\u001b[0mfind_optimal_proba\u001b[0m\u001b[1;33m,\u001b[0m \u001b[0mx0\u001b[0m\u001b[1;33m,\u001b[0m \u001b[0margs\u001b[0m\u001b[1;33m=\u001b[0m\u001b[1;33m(\u001b[0m\u001b[1;33m-\u001b[0m\u001b[1;33m(\u001b[0m\u001b[0mtest_df2\u001b[0m\u001b[1;33m.\u001b[0m\u001b[0mAMT_CREDIT\u001b[0m\u001b[1;33m.\u001b[0m\u001b[0mmean\u001b[0m\u001b[1;33m(\u001b[0m\u001b[1;33m)\u001b[0m \u001b[1;33m*\u001b[0m\u001b[1;36m0.50\u001b[0m\u001b[1;33m)\u001b[0m\u001b[1;33m,\u001b[0m \u001b[0mtest_df2\u001b[0m\u001b[1;33m.\u001b[0m\u001b[0mAMT_CREDIT\u001b[0m\u001b[1;33m.\u001b[0m\u001b[0mmean\u001b[0m\u001b[1;33m(\u001b[0m\u001b[1;33m)\u001b[0m \u001b[1;33m*\u001b[0m\u001b[1;36m0.05\u001b[0m\u001b[1;33m)\u001b[0m \u001b[1;33m)\u001b[0m\u001b[1;33m\u001b[0m\u001b[1;33m\u001b[0m\u001b[0m\n\u001b[0m",
      "\u001b[1;31mNameError\u001b[0m: name 'x0' is not defined"
     ]
    }
   ],
   "source": [
    "minimize(find_optimal_proba, x0, args=(-(test_df2.AMT_CREDIT.mean() *0.50), test_df2.AMT_CREDIT.mean() *0.05) )"
   ]
  },
  {
   "cell_type": "code",
   "execution_count": 116,
   "metadata": {},
   "outputs": [
    {
     "data": {
      "text/plain": [
       "0.7770317874052084"
      ]
     },
     "execution_count": 116,
     "metadata": {},
     "output_type": "execute_result"
    }
   ],
   "source": [
    "roc_auc"
   ]
  },
  {
   "cell_type": "code",
   "execution_count": 117,
   "metadata": {},
   "outputs": [],
   "source": [
    "temp_proba_list = []\n",
    "for i in range(-50,50,3):\n",
    "    temp_proba_list.append(roc_auc+ i/100)"
   ]
  },
  {
   "cell_type": "code",
   "execution_count": 118,
   "metadata": {},
   "outputs": [
    {
     "data": {
      "text/plain": [
       "[0.2770317874052084,\n",
       " 0.3070317874052084,\n",
       " 0.3370317874052084,\n",
       " 0.3670317874052084,\n",
       " 0.3970317874052084,\n",
       " 0.4270317874052084,\n",
       " 0.4570317874052084,\n",
       " 0.4870317874052084,\n",
       " 0.5170317874052084,\n",
       " 0.5470317874052084,\n",
       " 0.5770317874052084,\n",
       " 0.6070317874052084,\n",
       " 0.6370317874052084,\n",
       " 0.6670317874052084,\n",
       " 0.6970317874052084,\n",
       " 0.7270317874052084,\n",
       " 0.7570317874052084,\n",
       " 0.7870317874052084,\n",
       " 0.8170317874052084,\n",
       " 0.8470317874052085,\n",
       " 0.8770317874052084,\n",
       " 0.9070317874052084,\n",
       " 0.9370317874052084,\n",
       " 0.9670317874052083,\n",
       " 0.9970317874052084,\n",
       " 1.0270317874052084,\n",
       " 1.0570317874052084,\n",
       " 1.0870317874052084,\n",
       " 1.1170317874052085,\n",
       " 1.1470317874052083,\n",
       " 1.1770317874052085,\n",
       " 1.2070317874052083,\n",
       " 1.2370317874052084,\n",
       " 1.2670317874052084]"
      ]
     },
     "execution_count": 118,
     "metadata": {},
     "output_type": "execute_result"
    }
   ],
   "source": [
    "temp_proba_list"
   ]
  },
  {
   "cell_type": "code",
   "execution_count": null,
   "metadata": {},
   "outputs": [],
   "source": []
  },
  {
   "cell_type": "code",
   "execution_count": null,
   "metadata": {},
   "outputs": [],
   "source": []
  },
  {
   "cell_type": "code",
   "execution_count": null,
   "metadata": {},
   "outputs": [],
   "source": []
  },
  {
   "cell_type": "code",
   "execution_count": null,
   "metadata": {},
   "outputs": [],
   "source": []
  },
  {
   "cell_type": "code",
   "execution_count": null,
   "metadata": {},
   "outputs": [],
   "source": []
  },
  {
   "cell_type": "code",
   "execution_count": null,
   "metadata": {},
   "outputs": [],
   "source": []
  },
  {
   "cell_type": "code",
   "execution_count": null,
   "metadata": {},
   "outputs": [],
   "source": []
  },
  {
   "cell_type": "code",
   "execution_count": null,
   "metadata": {},
   "outputs": [],
   "source": []
  },
  {
   "cell_type": "code",
   "execution_count": null,
   "metadata": {},
   "outputs": [],
   "source": []
  },
  {
   "cell_type": "code",
   "execution_count": null,
   "metadata": {},
   "outputs": [],
   "source": []
  },
  {
   "cell_type": "code",
   "execution_count": null,
   "metadata": {},
   "outputs": [],
   "source": []
  },
  {
   "cell_type": "code",
   "execution_count": null,
   "metadata": {},
   "outputs": [],
   "source": []
  },
  {
   "cell_type": "code",
   "execution_count": null,
   "metadata": {},
   "outputs": [],
   "source": []
  },
  {
   "cell_type": "code",
   "execution_count": null,
   "metadata": {},
   "outputs": [],
   "source": []
  },
  {
   "cell_type": "code",
   "execution_count": 119,
   "metadata": {},
   "outputs": [],
   "source": [
    "avg_lost_per_default = -(test_df2.AMT_CREDIT.mean() *0.50)\n",
    "avg_gain_per_good_customer = test_df2.AMT_CREDIT.mean() *0.05"
   ]
  },
  {
   "cell_type": "code",
   "execution_count": 164,
   "metadata": {},
   "outputs": [
    {
     "data": {
      "text/html": [
       "<div>\n",
       "<style scoped>\n",
       "    .dataframe tbody tr th:only-of-type {\n",
       "        vertical-align: middle;\n",
       "    }\n",
       "\n",
       "    .dataframe tbody tr th {\n",
       "        vertical-align: top;\n",
       "    }\n",
       "\n",
       "    .dataframe thead th {\n",
       "        text-align: right;\n",
       "    }\n",
       "</style>\n",
       "<table border=\"1\" class=\"dataframe\">\n",
       "  <thead>\n",
       "    <tr style=\"text-align: right;\">\n",
       "      <th></th>\n",
       "      <th>CODE_GENDER</th>\n",
       "      <th>FLAG_OWN_CAR</th>\n",
       "      <th>FLAG_OWN_REALTY</th>\n",
       "      <th>CNT_CHILDREN</th>\n",
       "      <th>AMT_INCOME_TOTAL</th>\n",
       "      <th>AMT_CREDIT</th>\n",
       "      <th>AMT_ANNUITY</th>\n",
       "      <th>AMT_GOODS_PRICE</th>\n",
       "      <th>REGION_POPULATION_RELATIVE</th>\n",
       "      <th>DAYS_BIRTH</th>\n",
       "      <th>...</th>\n",
       "      <th>CC_NAME_CONTRACT_STATUS_Signed_MAX</th>\n",
       "      <th>CC_NAME_CONTRACT_STATUS_Signed_MEAN</th>\n",
       "      <th>CC_NAME_CONTRACT_STATUS_Signed_SUM</th>\n",
       "      <th>CC_NAME_CONTRACT_STATUS_Signed_VAR</th>\n",
       "      <th>CC_NAME_CONTRACT_STATUS_nan_MAX</th>\n",
       "      <th>CC_NAME_CONTRACT_STATUS_nan_MEAN</th>\n",
       "      <th>CC_NAME_CONTRACT_STATUS_nan_SUM</th>\n",
       "      <th>CC_NAME_CONTRACT_STATUS_nan_VAR</th>\n",
       "      <th>CC_COUNT</th>\n",
       "      <th>TARGET</th>\n",
       "    </tr>\n",
       "    <tr>\n",
       "      <th>SK_ID_CURR</th>\n",
       "      <th></th>\n",
       "      <th></th>\n",
       "      <th></th>\n",
       "      <th></th>\n",
       "      <th></th>\n",
       "      <th></th>\n",
       "      <th></th>\n",
       "      <th></th>\n",
       "      <th></th>\n",
       "      <th></th>\n",
       "      <th></th>\n",
       "      <th></th>\n",
       "      <th></th>\n",
       "      <th></th>\n",
       "      <th></th>\n",
       "      <th></th>\n",
       "      <th></th>\n",
       "      <th></th>\n",
       "      <th></th>\n",
       "      <th></th>\n",
       "      <th></th>\n",
       "    </tr>\n",
       "  </thead>\n",
       "  <tbody>\n",
       "    <tr>\n",
       "      <th>439442</th>\n",
       "      <td>1</td>\n",
       "      <td>0</td>\n",
       "      <td>0</td>\n",
       "      <td>0</td>\n",
       "      <td>112500.0</td>\n",
       "      <td>518071.5</td>\n",
       "      <td>36184.5</td>\n",
       "      <td>459000.0</td>\n",
       "      <td>0.018850</td>\n",
       "      <td>-23255</td>\n",
       "      <td>...</td>\n",
       "      <td>NaN</td>\n",
       "      <td>NaN</td>\n",
       "      <td>NaN</td>\n",
       "      <td>NaN</td>\n",
       "      <td>NaN</td>\n",
       "      <td>NaN</td>\n",
       "      <td>NaN</td>\n",
       "      <td>NaN</td>\n",
       "      <td>NaN</td>\n",
       "      <td>0</td>\n",
       "    </tr>\n",
       "    <tr>\n",
       "      <th>340600</th>\n",
       "      <td>1</td>\n",
       "      <td>0</td>\n",
       "      <td>0</td>\n",
       "      <td>0</td>\n",
       "      <td>126000.0</td>\n",
       "      <td>585000.0</td>\n",
       "      <td>18999.0</td>\n",
       "      <td>585000.0</td>\n",
       "      <td>0.028663</td>\n",
       "      <td>-17106</td>\n",
       "      <td>...</td>\n",
       "      <td>0.0</td>\n",
       "      <td>0.0</td>\n",
       "      <td>0.0</td>\n",
       "      <td>0.0</td>\n",
       "      <td>0.0</td>\n",
       "      <td>0.0</td>\n",
       "      <td>0.0</td>\n",
       "      <td>0.0</td>\n",
       "      <td>96.0</td>\n",
       "      <td>0</td>\n",
       "    </tr>\n",
       "    <tr>\n",
       "      <th>157696</th>\n",
       "      <td>0</td>\n",
       "      <td>1</td>\n",
       "      <td>1</td>\n",
       "      <td>0</td>\n",
       "      <td>247500.0</td>\n",
       "      <td>509400.0</td>\n",
       "      <td>40243.5</td>\n",
       "      <td>450000.0</td>\n",
       "      <td>0.003541</td>\n",
       "      <td>-23103</td>\n",
       "      <td>...</td>\n",
       "      <td>NaN</td>\n",
       "      <td>NaN</td>\n",
       "      <td>NaN</td>\n",
       "      <td>NaN</td>\n",
       "      <td>NaN</td>\n",
       "      <td>NaN</td>\n",
       "      <td>NaN</td>\n",
       "      <td>NaN</td>\n",
       "      <td>NaN</td>\n",
       "      <td>0</td>\n",
       "    </tr>\n",
       "    <tr>\n",
       "      <th>266672</th>\n",
       "      <td>1</td>\n",
       "      <td>1</td>\n",
       "      <td>0</td>\n",
       "      <td>0</td>\n",
       "      <td>157500.0</td>\n",
       "      <td>545040.0</td>\n",
       "      <td>30564.0</td>\n",
       "      <td>450000.0</td>\n",
       "      <td>0.010006</td>\n",
       "      <td>-17802</td>\n",
       "      <td>...</td>\n",
       "      <td>0.0</td>\n",
       "      <td>0.0</td>\n",
       "      <td>0.0</td>\n",
       "      <td>0.0</td>\n",
       "      <td>0.0</td>\n",
       "      <td>0.0</td>\n",
       "      <td>0.0</td>\n",
       "      <td>0.0</td>\n",
       "      <td>74.0</td>\n",
       "      <td>0</td>\n",
       "    </tr>\n",
       "    <tr>\n",
       "      <th>378316</th>\n",
       "      <td>0</td>\n",
       "      <td>0</td>\n",
       "      <td>0</td>\n",
       "      <td>0</td>\n",
       "      <td>121500.0</td>\n",
       "      <td>495000.0</td>\n",
       "      <td>21933.0</td>\n",
       "      <td>495000.0</td>\n",
       "      <td>0.031329</td>\n",
       "      <td>-20956</td>\n",
       "      <td>...</td>\n",
       "      <td>NaN</td>\n",
       "      <td>NaN</td>\n",
       "      <td>NaN</td>\n",
       "      <td>NaN</td>\n",
       "      <td>NaN</td>\n",
       "      <td>NaN</td>\n",
       "      <td>NaN</td>\n",
       "      <td>NaN</td>\n",
       "      <td>NaN</td>\n",
       "      <td>0</td>\n",
       "    </tr>\n",
       "    <tr>\n",
       "      <th>...</th>\n",
       "      <td>...</td>\n",
       "      <td>...</td>\n",
       "      <td>...</td>\n",
       "      <td>...</td>\n",
       "      <td>...</td>\n",
       "      <td>...</td>\n",
       "      <td>...</td>\n",
       "      <td>...</td>\n",
       "      <td>...</td>\n",
       "      <td>...</td>\n",
       "      <td>...</td>\n",
       "      <td>...</td>\n",
       "      <td>...</td>\n",
       "      <td>...</td>\n",
       "      <td>...</td>\n",
       "      <td>...</td>\n",
       "      <td>...</td>\n",
       "      <td>...</td>\n",
       "      <td>...</td>\n",
       "      <td>...</td>\n",
       "      <td>...</td>\n",
       "    </tr>\n",
       "    <tr>\n",
       "      <th>443603</th>\n",
       "      <td>1</td>\n",
       "      <td>1</td>\n",
       "      <td>0</td>\n",
       "      <td>0</td>\n",
       "      <td>270000.0</td>\n",
       "      <td>545040.0</td>\n",
       "      <td>26640.0</td>\n",
       "      <td>450000.0</td>\n",
       "      <td>0.019101</td>\n",
       "      <td>-17480</td>\n",
       "      <td>...</td>\n",
       "      <td>NaN</td>\n",
       "      <td>NaN</td>\n",
       "      <td>NaN</td>\n",
       "      <td>NaN</td>\n",
       "      <td>NaN</td>\n",
       "      <td>NaN</td>\n",
       "      <td>NaN</td>\n",
       "      <td>NaN</td>\n",
       "      <td>NaN</td>\n",
       "      <td>0</td>\n",
       "    </tr>\n",
       "    <tr>\n",
       "      <th>351791</th>\n",
       "      <td>1</td>\n",
       "      <td>1</td>\n",
       "      <td>0</td>\n",
       "      <td>0</td>\n",
       "      <td>405000.0</td>\n",
       "      <td>495000.0</td>\n",
       "      <td>48352.5</td>\n",
       "      <td>495000.0</td>\n",
       "      <td>0.026392</td>\n",
       "      <td>-14332</td>\n",
       "      <td>...</td>\n",
       "      <td>NaN</td>\n",
       "      <td>NaN</td>\n",
       "      <td>NaN</td>\n",
       "      <td>NaN</td>\n",
       "      <td>NaN</td>\n",
       "      <td>NaN</td>\n",
       "      <td>NaN</td>\n",
       "      <td>NaN</td>\n",
       "      <td>NaN</td>\n",
       "      <td>0</td>\n",
       "    </tr>\n",
       "    <tr>\n",
       "      <th>432494</th>\n",
       "      <td>0</td>\n",
       "      <td>1</td>\n",
       "      <td>0</td>\n",
       "      <td>0</td>\n",
       "      <td>202500.0</td>\n",
       "      <td>640080.0</td>\n",
       "      <td>29970.0</td>\n",
       "      <td>450000.0</td>\n",
       "      <td>0.022625</td>\n",
       "      <td>-21795</td>\n",
       "      <td>...</td>\n",
       "      <td>NaN</td>\n",
       "      <td>NaN</td>\n",
       "      <td>NaN</td>\n",
       "      <td>NaN</td>\n",
       "      <td>NaN</td>\n",
       "      <td>NaN</td>\n",
       "      <td>NaN</td>\n",
       "      <td>NaN</td>\n",
       "      <td>NaN</td>\n",
       "      <td>0</td>\n",
       "    </tr>\n",
       "    <tr>\n",
       "      <th>275491</th>\n",
       "      <td>0</td>\n",
       "      <td>0</td>\n",
       "      <td>1</td>\n",
       "      <td>0</td>\n",
       "      <td>180000.0</td>\n",
       "      <td>495000.0</td>\n",
       "      <td>48352.5</td>\n",
       "      <td>495000.0</td>\n",
       "      <td>0.006207</td>\n",
       "      <td>-11340</td>\n",
       "      <td>...</td>\n",
       "      <td>0.0</td>\n",
       "      <td>0.0</td>\n",
       "      <td>0.0</td>\n",
       "      <td>0.0</td>\n",
       "      <td>0.0</td>\n",
       "      <td>0.0</td>\n",
       "      <td>0.0</td>\n",
       "      <td>0.0</td>\n",
       "      <td>14.0</td>\n",
       "      <td>0</td>\n",
       "    </tr>\n",
       "    <tr>\n",
       "      <th>348215</th>\n",
       "      <td>1</td>\n",
       "      <td>1</td>\n",
       "      <td>1</td>\n",
       "      <td>0</td>\n",
       "      <td>225000.0</td>\n",
       "      <td>545040.0</td>\n",
       "      <td>26640.0</td>\n",
       "      <td>450000.0</td>\n",
       "      <td>0.035792</td>\n",
       "      <td>-10893</td>\n",
       "      <td>...</td>\n",
       "      <td>NaN</td>\n",
       "      <td>NaN</td>\n",
       "      <td>NaN</td>\n",
       "      <td>NaN</td>\n",
       "      <td>NaN</td>\n",
       "      <td>NaN</td>\n",
       "      <td>NaN</td>\n",
       "      <td>NaN</td>\n",
       "      <td>NaN</td>\n",
       "      <td>1</td>\n",
       "    </tr>\n",
       "  </tbody>\n",
       "</table>\n",
       "<p>13371 rows × 706 columns</p>\n",
       "</div>"
      ],
      "text/plain": [
       "            CODE_GENDER  FLAG_OWN_CAR  FLAG_OWN_REALTY  CNT_CHILDREN  \\\n",
       "SK_ID_CURR                                                             \n",
       "439442                1             0                0             0   \n",
       "340600                1             0                0             0   \n",
       "157696                0             1                1             0   \n",
       "266672                1             1                0             0   \n",
       "378316                0             0                0             0   \n",
       "...                 ...           ...              ...           ...   \n",
       "443603                1             1                0             0   \n",
       "351791                1             1                0             0   \n",
       "432494                0             1                0             0   \n",
       "275491                0             0                1             0   \n",
       "348215                1             1                1             0   \n",
       "\n",
       "            AMT_INCOME_TOTAL  AMT_CREDIT  AMT_ANNUITY  AMT_GOODS_PRICE  \\\n",
       "SK_ID_CURR                                                               \n",
       "439442              112500.0    518071.5      36184.5         459000.0   \n",
       "340600              126000.0    585000.0      18999.0         585000.0   \n",
       "157696              247500.0    509400.0      40243.5         450000.0   \n",
       "266672              157500.0    545040.0      30564.0         450000.0   \n",
       "378316              121500.0    495000.0      21933.0         495000.0   \n",
       "...                      ...         ...          ...              ...   \n",
       "443603              270000.0    545040.0      26640.0         450000.0   \n",
       "351791              405000.0    495000.0      48352.5         495000.0   \n",
       "432494              202500.0    640080.0      29970.0         450000.0   \n",
       "275491              180000.0    495000.0      48352.5         495000.0   \n",
       "348215              225000.0    545040.0      26640.0         450000.0   \n",
       "\n",
       "            REGION_POPULATION_RELATIVE  DAYS_BIRTH  ...  \\\n",
       "SK_ID_CURR                                          ...   \n",
       "439442                        0.018850      -23255  ...   \n",
       "340600                        0.028663      -17106  ...   \n",
       "157696                        0.003541      -23103  ...   \n",
       "266672                        0.010006      -17802  ...   \n",
       "378316                        0.031329      -20956  ...   \n",
       "...                                ...         ...  ...   \n",
       "443603                        0.019101      -17480  ...   \n",
       "351791                        0.026392      -14332  ...   \n",
       "432494                        0.022625      -21795  ...   \n",
       "275491                        0.006207      -11340  ...   \n",
       "348215                        0.035792      -10893  ...   \n",
       "\n",
       "            CC_NAME_CONTRACT_STATUS_Signed_MAX  \\\n",
       "SK_ID_CURR                                       \n",
       "439442                                     NaN   \n",
       "340600                                     0.0   \n",
       "157696                                     NaN   \n",
       "266672                                     0.0   \n",
       "378316                                     NaN   \n",
       "...                                        ...   \n",
       "443603                                     NaN   \n",
       "351791                                     NaN   \n",
       "432494                                     NaN   \n",
       "275491                                     0.0   \n",
       "348215                                     NaN   \n",
       "\n",
       "            CC_NAME_CONTRACT_STATUS_Signed_MEAN  \\\n",
       "SK_ID_CURR                                        \n",
       "439442                                      NaN   \n",
       "340600                                      0.0   \n",
       "157696                                      NaN   \n",
       "266672                                      0.0   \n",
       "378316                                      NaN   \n",
       "...                                         ...   \n",
       "443603                                      NaN   \n",
       "351791                                      NaN   \n",
       "432494                                      NaN   \n",
       "275491                                      0.0   \n",
       "348215                                      NaN   \n",
       "\n",
       "            CC_NAME_CONTRACT_STATUS_Signed_SUM  \\\n",
       "SK_ID_CURR                                       \n",
       "439442                                     NaN   \n",
       "340600                                     0.0   \n",
       "157696                                     NaN   \n",
       "266672                                     0.0   \n",
       "378316                                     NaN   \n",
       "...                                        ...   \n",
       "443603                                     NaN   \n",
       "351791                                     NaN   \n",
       "432494                                     NaN   \n",
       "275491                                     0.0   \n",
       "348215                                     NaN   \n",
       "\n",
       "            CC_NAME_CONTRACT_STATUS_Signed_VAR  \\\n",
       "SK_ID_CURR                                       \n",
       "439442                                     NaN   \n",
       "340600                                     0.0   \n",
       "157696                                     NaN   \n",
       "266672                                     0.0   \n",
       "378316                                     NaN   \n",
       "...                                        ...   \n",
       "443603                                     NaN   \n",
       "351791                                     NaN   \n",
       "432494                                     NaN   \n",
       "275491                                     0.0   \n",
       "348215                                     NaN   \n",
       "\n",
       "            CC_NAME_CONTRACT_STATUS_nan_MAX  CC_NAME_CONTRACT_STATUS_nan_MEAN  \\\n",
       "SK_ID_CURR                                                                      \n",
       "439442                                  NaN                               NaN   \n",
       "340600                                  0.0                               0.0   \n",
       "157696                                  NaN                               NaN   \n",
       "266672                                  0.0                               0.0   \n",
       "378316                                  NaN                               NaN   \n",
       "...                                     ...                               ...   \n",
       "443603                                  NaN                               NaN   \n",
       "351791                                  NaN                               NaN   \n",
       "432494                                  NaN                               NaN   \n",
       "275491                                  0.0                               0.0   \n",
       "348215                                  NaN                               NaN   \n",
       "\n",
       "            CC_NAME_CONTRACT_STATUS_nan_SUM  CC_NAME_CONTRACT_STATUS_nan_VAR  \\\n",
       "SK_ID_CURR                                                                     \n",
       "439442                                  NaN                              NaN   \n",
       "340600                                  0.0                              0.0   \n",
       "157696                                  NaN                              NaN   \n",
       "266672                                  0.0                              0.0   \n",
       "378316                                  NaN                              NaN   \n",
       "...                                     ...                              ...   \n",
       "443603                                  NaN                              NaN   \n",
       "351791                                  NaN                              NaN   \n",
       "432494                                  NaN                              NaN   \n",
       "275491                                  0.0                              0.0   \n",
       "348215                                  NaN                              NaN   \n",
       "\n",
       "            CC_COUNT  TARGET  \n",
       "SK_ID_CURR                    \n",
       "439442           NaN       0  \n",
       "340600          96.0       0  \n",
       "157696           NaN       0  \n",
       "266672          74.0       0  \n",
       "378316           NaN       0  \n",
       "...              ...     ...  \n",
       "443603           NaN       0  \n",
       "351791           NaN       0  \n",
       "432494           NaN       0  \n",
       "275491          14.0       0  \n",
       "348215           NaN       1  \n",
       "\n",
       "[13371 rows x 706 columns]"
      ]
     },
     "execution_count": 164,
     "metadata": {},
     "output_type": "execute_result"
    }
   ],
   "source": [
    "test_df"
   ]
  },
  {
   "cell_type": "code",
   "execution_count": 177,
   "metadata": {},
   "outputs": [],
   "source": [
    "test_df2['y_proba'] = y_proba"
   ]
  },
  {
   "cell_type": "code",
   "execution_count": 355,
   "metadata": {},
   "outputs": [
    {
     "name": "stdout",
     "output_type": "stream",
     "text": [
      "0.87\n",
      "Based on the information imputed here is the graph of returns on the training data\n"
     ]
    },
    {
     "data": {
      "image/png": "[encoded data removed]",
      "text/plain": [
       "<Figure size 720x720 with 1 Axes>"
      ]
     },
     "metadata": {},
     "output_type": "display_data"
    }
   ],
   "source": [
    "optimal_proba_result = 0\n",
    "plot_proba = {}\n",
    "for proba in temp_proba_list:\n",
    "\n",
    "    train_df['finance'] = np.nan   \n",
    "    train_df['y_proba2'] = np.where(train_df['proba']>= (1 - proba), 1 , 0)\n",
    "\n",
    "\n",
    "    train_df['finance'] = np.where((train_df['TARGET']==0) & (train_df['y_proba2']==0), avg_gain_per_good_customer, train_df['finance'])\n",
    "    train_df['finance'] = np.where((train_df['TARGET']==0) & (train_df['y_proba2']==1), -avg_gain_per_good_customer, train_df['finance'])\n",
    "    train_df['finance'] = np.where((train_df['TARGET']==1) & (train_df['y_proba2']==0), avg_lost_per_default, train_df['finance'])\n",
    "    train_df['finance'] = np.where((train_df['TARGET']==1) & (train_df['y_proba2']==1), -avg_lost_per_default, train_df['finance'])\n",
    "\n",
    "    gains = train_df['finance'].sum().round(2)/len(train_df)\n",
    "    plot_proba[proba] = gains\n",
    "    \n",
    "    if gains > optimal_proba_result:\n",
    "        optimal_proba_result = gains\n",
    "        optimal_proba = proba\n",
    "        \n",
    "print(optimal_proba)\n",
    "print_return_graph(plot_proba)"
   ]
  },
  {
   "cell_type": "code",
   "execution_count": 121,
   "metadata": {},
   "outputs": [],
   "source": [
    "import seaborn as sns"
   ]
  },
  {
   "cell_type": "code",
   "execution_count": 178,
   "metadata": {},
   "outputs": [],
   "source": [
    "sns.set_style(\"whitegrid\")\n",
    "sns.set_context('talk')"
   ]
  },
  {
   "cell_type": "code",
   "execution_count": 123,
   "metadata": {},
   "outputs": [],
   "source": [
    "import matplotlib.ticker as mtick"
   ]
  },
  {
   "cell_type": "code",
   "execution_count": 124,
   "metadata": {},
   "outputs": [
    {
     "data": {
      "text/plain": [
       "dict_values([-45959403.59, -43268829.19, -39644790.2, -35746202.8, -31847615.39, -21908963.0, -15868898.02, -6149884.35, 9554284.62, 23062066.32, 36734577.07, 51230733.04, 71437495.91, 97519594.72, 123272235.45, 139800049.64, 168243264.77, 192019156.95, 224910056.3, 247807393.58, 275701511.89, 296512281.26, 288440558.04, 210468810.01, 47551784.36, 47551784.36, 47551784.36, 47551784.36, 47551784.36, 47551784.36, 47551784.36, 47551784.36, 47551784.36, 47551784.36])"
      ]
     },
     "execution_count": 124,
     "metadata": {},
     "output_type": "execute_result"
    }
   ],
   "source": [
    "plot_proba.values()"
   ]
  },
  {
   "cell_type": "code",
   "execution_count": null,
   "metadata": {},
   "outputs": [],
   "source": [
    "288 440 558"
   ]
  },
  {
   "cell_type": "code",
   "execution_count": 170,
   "metadata": {},
   "outputs": [
    {
     "data": {
      "text/plain": [
       "2691837326.630001"
      ]
     },
     "execution_count": 170,
     "metadata": {},
     "output_type": "execute_result"
    }
   ],
   "source": [
    "sum(plot_proba.values())"
   ]
  },
  {
   "cell_type": "code",
   "execution_count": 179,
   "metadata": {},
   "outputs": [
    {
     "data": {
      "text/plain": [
       "dict_values([-3437.245051978162, -3236.020431530925, -2964.983187495326, -2673.412818786927, -2381.842449330641, -1638.5433400643183, -1186.8146002542817, -459.9419901278887, 714.5527350235584, 1724.7824635404982, 2747.3320671602723, 3831.481044050557, 5342.719012040984, 7293.365845486501, 9219.372930222124, 10455.46702864408, 12582.69873382694, 14360.867321067983, 16820.73564430484, 18533.19823349039, 20619.36368932765, 22175.774531448656, 21572.100668611176, 15740.693292199536, 3556.337174482088, 3556.337174482088, 3556.337174482088, 3556.337174482088, 3556.337174482088, 3556.337174482088, 3556.337174482088, 3556.337174482088, 3556.337174482088, 3556.337174482088])"
      ]
     },
     "execution_count": 179,
     "metadata": {},
     "output_type": "execute_result"
    }
   ],
   "source": [
    "plot_proba.values()"
   ]
  },
  {
   "cell_type": "code",
   "execution_count": 173,
   "metadata": {},
   "outputs": [
    {
     "data": {
      "text/plain": [
       "dict_values([-45959403.59, -43268829.19, -39644790.2, -35746202.8, -31847615.39, -21908963.0, -15868898.02, -6149884.35, 9554284.62, 23062066.32, 36734577.07, 51230733.04, 71437495.91, 97519594.72, 123272235.45, 139800049.64, 168243264.77, 192019156.95, 224910056.3, 247807393.58, 275701511.89, 296512281.26, 288440558.04, 210468810.01, 47551784.36, 47551784.36, 47551784.36, 47551784.36, 47551784.36, 47551784.36, 47551784.36, 47551784.36, 47551784.36, 47551784.36])"
      ]
     },
     "execution_count": 173,
     "metadata": {},
     "output_type": "execute_result"
    }
   ],
   "source": [
    "plot_proba.values()/len()"
   ]
  },
  {
   "cell_type": "code",
   "execution_count": 166,
   "metadata": {},
   "outputs": [
    {
     "ename": "AttributeError",
     "evalue": "'dict_keys' object has no attribute 'values'",
     "output_type": "error",
     "traceback": [
      "\u001b[1;31m---------------------------------------------------------------------------\u001b[0m",
      "\u001b[1;31mAttributeError\u001b[0m                            Traceback (most recent call last)",
      "\u001b[1;32m<ipython-input-166-58dad14c11b3>\u001b[0m in \u001b[0;36m<module>\u001b[1;34m\u001b[0m\n\u001b[1;32m----> 1\u001b[1;33m \u001b[0mplot_proba\u001b[0m\u001b[1;33m.\u001b[0m\u001b[0mkeys\u001b[0m\u001b[1;33m(\u001b[0m\u001b[1;33m)\u001b[0m\u001b[1;33m.\u001b[0m\u001b[0mvalues\u001b[0m\u001b[1;33m\u001b[0m\u001b[1;33m\u001b[0m\u001b[0m\n\u001b[0m",
      "\u001b[1;31mAttributeError\u001b[0m: 'dict_keys' object has no attribute 'values'"
     ]
    }
   ],
   "source": [
    "plot_proba.keys().values"
   ]
  },
  {
   "cell_type": "code",
   "execution_count": null,
   "metadata": {},
   "outputs": [],
   "source": [
    "test_df2['y_proba2'] = np.where(test_df2['y_proba']>= (1 - proba), 1 , 0)"
   ]
  },
  {
   "cell_type": "code",
   "execution_count": 427,
   "metadata": {},
   "outputs": [
    {
     "data": {
      "text/plain": [
       "0.93"
      ]
     },
     "execution_count": 427,
     "metadata": {},
     "output_type": "execute_result"
    }
   ],
   "source": [
    "opt_perc"
   ]
  },
  {
   "cell_type": "code",
   "execution_count": null,
   "metadata": {},
   "outputs": [],
   "source": []
  },
  {
   "cell_type": "code",
   "execution_count": null,
   "metadata": {},
   "outputs": [],
   "source": []
  },
  {
   "cell_type": "code",
   "execution_count": null,
   "metadata": {},
   "outputs": [],
   "source": []
  },
  {
   "cell_type": "code",
   "execution_count": null,
   "metadata": {},
   "outputs": [],
   "source": []
  },
  {
   "cell_type": "markdown",
   "metadata": {},
   "source": [
    "### vs code checking"
   ]
  },
  {
   "cell_type": "code",
   "execution_count": 184,
   "metadata": {},
   "outputs": [],
   "source": [
    "def initial_cut_off_suggestion (train_df, model):\n",
    "    train_proba = model.predict_proba(train_df.drop(columns = ['TARGET',]), num_iteration=model.best_iteration_)[:, 1]\n",
    "    train_df['proba'] = train_proba\n",
    "\n",
    "    fpr, tpr, threshold = metrics.roc_curve(train_df['TARGET'], train_proba, )\n",
    "    suggested_initial_cut_off = metrics.auc(fpr, tpr)\n",
    "    return suggested_initial_cut_off"
   ]
  },
  {
   "cell_type": "code",
   "execution_count": 404,
   "metadata": {},
   "outputs": [
    {
     "data": {
      "text/plain": [
       "0.03"
      ]
     },
     "execution_count": 404,
     "metadata": {},
     "output_type": "execute_result"
    }
   ],
   "source": [
    "avg_interest"
   ]
  },
  {
   "cell_type": "code",
   "execution_count": 405,
   "metadata": {},
   "outputs": [
    {
     "data": {
      "text/plain": [
       "0.4"
      ]
     },
     "execution_count": 405,
     "metadata": {},
     "output_type": "execute_result"
    }
   ],
   "source": [
    "avg_reimbursed_b4_default"
   ]
  },
  {
   "cell_type": "code",
   "execution_count": 402,
   "metadata": {},
   "outputs": [
    {
     "name": "stdout",
     "output_type": "stream",
     "text": [
      "Based on the information imputed here is the graph of returns on the training data\n"
     ]
    },
    {
     "data": {
      "image/png": "[encoded data removed]",
      "text/plain": [
       "<Figure size 720x720 with 1 Axes>"
      ]
     },
     "metadata": {},
     "output_type": "display_data"
    }
   ],
   "source": [
    "temp_proba_list = []\n",
    "for i in range(0,100,3):\n",
    "    temp_proba_list.append(i/100)\n",
    "temp_proba_list.append(suggested_initial_cut_off)\n",
    "\n",
    "\n",
    "optimal_proba_result = 0\n",
    "plot_proba = {}\n",
    "\n",
    "train_df['potential_gain'] = avg_interest * train_df['AMT_CREDIT']\n",
    "train_df['potential_loss'] = avg_reimbursed_b4_default * train_df['AMT_CREDIT']\n",
    "\n",
    "for proba in sorted(temp_proba_list):\n",
    "    train_df['result'] = np.nan   \n",
    "    train_df['y_proba2'] = np.where(train_df['proba']>= (1 - proba), 1 , 0)\n",
    "\n",
    "    train_df['result'] = np.where((train_df['TARGET']==0) & (train_df['y_proba2']==0), train_df['potential_gain'], train_df['result'])\n",
    "    train_df['result'] = np.where((train_df['TARGET']==0) & (train_df['y_proba2']==1), -train_df['potential_gain'], train_df['result'])\n",
    "    train_df['result'] = np.where((train_df['TARGET']==1) & (train_df['y_proba2']==0), -train_df['potential_loss'], train_df['result'])\n",
    "    train_df['result'] = np.where((train_df['TARGET']==1) & (train_df['y_proba2']==1), train_df['potential_loss'], train_df['result'])\n",
    "\n",
    "\n",
    "    avg_gains = train_df['result'].sum() / len(train_df)\n",
    "    plot_proba[proba] = avg_gains\n",
    "\n",
    "    if avg_gains > optimal_proba_result:\n",
    "        optimal_proba_result = avg_gains\n",
    "        optimal_proba = proba\n",
    "print_return_graph(plot_proba)"
   ]
  },
  {
   "cell_type": "code",
   "execution_count": 384,
   "metadata": {},
   "outputs": [],
   "source": [
    "def find_optimal_proba (test_df ,train_df):\n",
    "    print('Customer class information')\n",
    "    print('Average credit: ', int(test_df.AMT_CREDIT.mean()))\n",
    "    print('Maximum credit: ', int(test_df.AMT_CREDIT.max()))\n",
    "    print('Minimum credit: ', int(test_df.AMT_CREDIT.min()))\n",
    "    print()\n",
    "\n",
    "    print('Average credit percentage reimbursed before default? Input a number between 0 and 1')\n",
    "    avg_reimbursed_b4_default = float(input())\n",
    "    print('Enter customer Interest rate or average of customer group above. Input a number between 0 and 1')\n",
    "    avg_interest = float(input())\n",
    "\n",
    "    temp_proba_list = []\n",
    "    for i in range(0,100,3):\n",
    "        temp_proba_list.append(i/100)\n",
    "    temp_proba_list.append(suggested_initial_cut_off)\n",
    "\n",
    "\n",
    "    optimal_proba_result = 0\n",
    "    plot_proba = {}\n",
    "\n",
    "    train_df['potential_gain'] = avg_interest * train_df['AMT_CREDIT']\n",
    "    train_df['potential_loss'] = avg_reimbursed_b4_default * train_df['AMT_CREDIT']\n",
    "\n",
    "    for proba in sorted(temp_proba_list):\n",
    "        train_df['result'] = np.nan   \n",
    "        train_df['y_proba2'] = np.where(train_df['proba']>= (1 - proba), 1 , 0)\n",
    "\n",
    "        train_df['result'] = np.where((train_df['TARGET']==0) & (train_df['y_proba2']==0), train_df['potential_gain'], train_df['result'])\n",
    "        train_df['result'] = np.where((train_df['TARGET']==0) & (train_df['y_proba2']==1), -train_df['potential_gain'], train_df['result'])\n",
    "        train_df['result'] = np.where((train_df['TARGET']==1) & (train_df['y_proba2']==0), -train_df['potential_loss'], train_df['result'])\n",
    "        train_df['result'] = np.where((train_df['TARGET']==1) & (train_df['y_proba2']==1), train_df['potential_loss'], train_df['result'])\n",
    "\n",
    "\n",
    "        avg_gains = train_df['result'].sum() / len(train_df)\n",
    "        plot_proba[proba] = avg_gains\n",
    "\n",
    "        if avg_gains > optimal_proba_result:\n",
    "            optimal_proba_result = avg_gains\n",
    "            optimal_proba = proba\n",
    "            \n",
    "    return optimal_proba, plot_proba"
   ]
  },
  {
   "cell_type": "code",
   "execution_count": 425,
   "metadata": {},
   "outputs": [],
   "source": [
    "def print_return_graph(plot_proba):\n",
    "    print('Based on the information imputed here is the graph of returns on the training data')\n",
    "\n",
    "    plt.figure(figsize=(10,10))\n",
    "    plt.title('Optimal probability cut off')\n",
    "    ax = sns.lineplot(x= plot_proba.keys(), y =plot_proba.values())\n",
    "    fmt = '{x:,.0f}'\n",
    "    tick = mtick.StrMethodFormatter(fmt)\n",
    "    ax.yaxis.set_major_formatter(tick)  \n",
    "    \n",
    "    # plot square on initial suggested cut off\n",
    "    plt.vlines(x = suggested_initial_cut_off, ymin=[0], ymax=plot_proba[suggested_initial_cut_off],  linestyle='dotted', color = 'red', label = 'Initial cutoff suggestion' )\n",
    "    plt.hlines(y = plot_proba[suggested_initial_cut_off], xmin=[0], xmax=suggested_initial_cut_off, linestyle='dotted', color = 'red')\n",
    "    #plt.text(suggested_initial_cut_off+.01, plot_proba[suggested_initial_cut_off] - plot_proba[suggested_initial_cut_off]*.1, 'Initial cutoff suggestion', horizontalalignment='left', size='medium', color='black')\n",
    "    \n",
    "    # plot square on optimal suggested cut off\n",
    "    plt.vlines(x = opt_perc, ymin=[0], ymax=plot_proba[opt_perc],  linestyle='dashed', color = 'green', label= 'Optimal cutoff ' )\n",
    "    plt.hlines(y = plot_proba[opt_perc], xmin=[0], xmax=opt_perc, linestyle='dashed', color = 'green')\n",
    "    #plt.text(opt_perc+.01, plot_proba[opt_perc] + plot_proba[opt_perc]*.1, , horizontalalignment='left', size='medium', color='black')\n",
    "    \n",
    "    plt.legend(bbox_to_anchor=(1, 1), loc='upper left')\n",
    "    plt.xlabel(\"Model's probability prediction\")\n",
    "    plt.ylabel(\"Average return per customer\")\n",
    "    plt.show()"
   ]
  },
  {
   "cell_type": "code",
   "execution_count": null,
   "metadata": {},
   "outputs": [],
   "source": []
  },
  {
   "cell_type": "code",
   "execution_count": 386,
   "metadata": {},
   "outputs": [],
   "source": [
    "train_df.drop(columns = 'proba', inplace=True)"
   ]
  },
  {
   "cell_type": "code",
   "execution_count": 392,
   "metadata": {
    "tags": []
   },
   "outputs": [],
   "source": [
    "suggested_initial_cut_off = initial_cut_off_suggestion(train_df, model)"
   ]
  },
  {
   "cell_type": "code",
   "execution_count": 417,
   "metadata": {},
   "outputs": [
    {
     "name": "stdout",
     "output_type": "stream",
     "text": [
      "Customer class information\n",
      "Average credit:  549096\n",
      "Maximum credit:  659610\n",
      "Minimum credit:  454810\n",
      "\n",
      "Average credit percentage reimbursed before default? Input a number between 0 and 1\n"
     ]
    },
    {
     "name": "stdin",
     "output_type": "stream",
     "text": [
      " .6\n"
     ]
    },
    {
     "name": "stdout",
     "output_type": "stream",
     "text": [
      "Enter customer Interest rate or average of customer group above. Input a number between 0 and 1\n"
     ]
    },
    {
     "name": "stdin",
     "output_type": "stream",
     "text": [
      " .02\n"
     ]
    }
   ],
   "source": [
    "opt_perc, plot_dic = find_optimal_proba(test_df2, train_df)"
   ]
  },
  {
   "cell_type": "code",
   "execution_count": 430,
   "metadata": {},
   "outputs": [
    {
     "data": {
      "text/plain": [
       "0.93"
      ]
     },
     "execution_count": 430,
     "metadata": {},
     "output_type": "execute_result"
    }
   ],
   "source": [
    "max(plot_dic, key=plot_dic.get)"
   ]
  },
  {
   "cell_type": "code",
   "execution_count": 428,
   "metadata": {},
   "outputs": [
    {
     "data": {
      "text/plain": [
       "{0.0: -24562.976497382202,\n",
       " 0.03: -24562.976497382202,\n",
       " 0.06: -24562.976497382202,\n",
       " 0.09: -24562.976497382202,\n",
       " 0.12: -24562.976497382202,\n",
       " 0.15: -24562.976497382202,\n",
       " 0.18: -24548.79405908751,\n",
       " 0.21: -24443.6212842184,\n",
       " 0.24: -24196.27799326851,\n",
       " 0.27: -23636.979444278237,\n",
       " 0.3: -23141.91993792072,\n",
       " 0.33: -22439.738986537024,\n",
       " 0.36: -21397.3459723261,\n",
       " 0.39: -19977.47343231114,\n",
       " 0.42: -18102.789861630517,\n",
       " 0.45: -16201.313454749437,\n",
       " 0.48: -14308.473614809276,\n",
       " 0.51: -11889.227836200449,\n",
       " 0.54: -9262.409068810768,\n",
       " 0.57: -6652.636974569931,\n",
       " 0.6: -3654.6644988780854,\n",
       " 0.63: -66.53280852655233,\n",
       " 0.66: 3264.7212857142854,\n",
       " 0.69: 6423.921300673149,\n",
       " 0.72: 9895.222247569185,\n",
       " 0.75: 13401.311840688104,\n",
       " 0.78: 16886.89145474944,\n",
       " 0.81: 20929.87056170531,\n",
       " 0.84: 24536.161698578904,\n",
       " 0.87: 27492.169357516825,\n",
       " 0.8925151240820621: 29454.24119147345,\n",
       " 0.9: 29916.034848915482,\n",
       " 0.93: 31452.265447270005,\n",
       " 0.96: 30707.103601346294,\n",
       " 0.99: 24902.96163275991}"
      ]
     },
     "execution_count": 428,
     "metadata": {},
     "output_type": "execute_result"
    }
   ],
   "source": [
    "plot_dic"
   ]
  },
  {
   "cell_type": "code",
   "execution_count": 426,
   "metadata": {},
   "outputs": [
    {
     "name": "stdout",
     "output_type": "stream",
     "text": [
      "Based on the information imputed here is the graph of returns on the training data\n"
     ]
    },
    {
     "data": {
      "image/png": "[encoded data removed]",
      "text/plain": [
       "<Figure size 720x720 with 1 Axes>"
      ]
     },
     "metadata": {},
     "output_type": "display_data"
    }
   ],
   "source": [
    "print_return_graph(plot_dic)"
   ]
  },
  {
   "cell_type": "code",
   "execution_count": null,
   "metadata": {},
   "outputs": [],
   "source": []
  },
  {
   "cell_type": "code",
   "execution_count": 203,
   "metadata": {},
   "outputs": [
    {
     "data": {
      "text/plain": [
       "44372.421676514576"
      ]
     },
     "execution_count": 203,
     "metadata": {},
     "output_type": "execute_result"
    }
   ],
   "source": [
    "opt_perc"
   ]
  },
  {
   "cell_type": "code",
   "execution_count": null,
   "metadata": {},
   "outputs": [],
   "source": []
  },
  {
   "cell_type": "code",
   "execution_count": null,
   "metadata": {},
   "outputs": [],
   "source": []
  },
  {
   "cell_type": "code",
   "execution_count": 336,
   "metadata": {},
   "outputs": [
    {
     "data": {
      "text/plain": [
       "0.08"
      ]
     },
     "execution_count": 336,
     "metadata": {},
     "output_type": "execute_result"
    }
   ],
   "source": [
    "avg_interest"
   ]
  },
  {
   "cell_type": "code",
   "execution_count": 337,
   "metadata": {},
   "outputs": [
    {
     "data": {
      "text/plain": [
       "0.2"
      ]
     },
     "execution_count": 337,
     "metadata": {},
     "output_type": "execute_result"
    }
   ],
   "source": [
    "avg_reimbursed_b4_default"
   ]
  },
  {
   "cell_type": "code",
   "execution_count": 343,
   "metadata": {},
   "outputs": [],
   "source": [
    "avg_interest=.05\n"
   ]
  },
  {
   "cell_type": "code",
   "execution_count": 344,
   "metadata": {},
   "outputs": [],
   "source": [
    "avg_reimbursed_b4_default= 0 "
   ]
  },
  {
   "cell_type": "code",
   "execution_count": 349,
   "metadata": {},
   "outputs": [
    {
     "data": {
      "text/plain": [
       "count    40110.000000\n",
       "mean         0.105263\n",
       "std          0.120113\n",
       "min          0.003598\n",
       "25%          0.029171\n",
       "50%          0.058595\n",
       "75%          0.130809\n",
       "max          0.835832\n",
       "Name: proba, dtype: float64"
      ]
     },
     "execution_count": 349,
     "metadata": {},
     "output_type": "execute_result"
    }
   ],
   "source": [
    "train_df['proba'].describe()"
   ]
  },
  {
   "cell_type": "code",
   "execution_count": 359,
   "metadata": {},
   "outputs": [
    {
     "data": {
      "text/plain": [
       "27454.840857078754"
      ]
     },
     "execution_count": 359,
     "metadata": {},
     "output_type": "execute_result"
    }
   ],
   "source": [
    "avg_gain_per_good_customer"
   ]
  },
  {
   "cell_type": "code",
   "execution_count": 360,
   "metadata": {},
   "outputs": [
    {
     "data": {
      "text/plain": [
       "-274548.4085707875"
      ]
     },
     "execution_count": 360,
     "metadata": {},
     "output_type": "execute_result"
    }
   ],
   "source": [
    "avg_lost_per_default"
   ]
  },
  {
   "cell_type": "code",
   "execution_count": null,
   "metadata": {},
   "outputs": [],
   "source": []
  },
  {
   "cell_type": "code",
   "execution_count": 363,
   "metadata": {},
   "outputs": [
    {
     "data": {
      "text/plain": [
       "0.87"
      ]
     },
     "execution_count": 363,
     "metadata": {},
     "output_type": "execute_result"
    }
   ],
   "source": [
    "optimal_proba"
   ]
  },
  {
   "cell_type": "code",
   "execution_count": 364,
   "metadata": {},
   "outputs": [],
   "source": [
    "train_df['y_proba2'] = np.where(train_df['proba']>= (1 - optimal_proba), 1 , 0)"
   ]
  },
  {
   "cell_type": "code",
   "execution_count": 366,
   "metadata": {},
   "outputs": [
    {
     "data": {
      "text/plain": [
       "0    30005\n",
       "1    10105\n",
       "Name: y_proba2, dtype: int64"
      ]
     },
     "execution_count": 366,
     "metadata": {},
     "output_type": "execute_result"
    }
   ],
   "source": [
    "train_df['y_proba2'].value_counts()"
   ]
  },
  {
   "cell_type": "code",
   "execution_count": 367,
   "metadata": {},
   "outputs": [
    {
     "data": {
      "text/plain": [
       "0    35949\n",
       "1     4161\n",
       "Name: TARGET, dtype: int64"
      ]
     },
     "execution_count": 367,
     "metadata": {},
     "output_type": "execute_result"
    }
   ],
   "source": [
    "train_df['TARGET'].value_counts()"
   ]
  },
  {
   "cell_type": "code",
   "execution_count": 368,
   "metadata": {},
   "outputs": [
    {
     "data": {
      "text/plain": [
       "27454.840857078754"
      ]
     },
     "execution_count": 368,
     "metadata": {},
     "output_type": "execute_result"
    }
   ],
   "source": [
    "avg_gain_per_good_customer"
   ]
  },
  {
   "cell_type": "code",
   "execution_count": null,
   "metadata": {},
   "outputs": [],
   "source": []
  },
  {
   "cell_type": "code",
   "execution_count": 403,
   "metadata": {},
   "outputs": [
    {
     "data": {
      "text/plain": [
       "{0.0: -8181.97295474944,\n",
       " 0.03: -8181.97295474944,\n",
       " 0.06: -8181.97295474944,\n",
       " 0.09: -8181.97295474944,\n",
       " 0.12: -8181.97295474944,\n",
       " 0.15: -8181.97295474944,\n",
       " 0.18: -8172.517995886314,\n",
       " 0.21: -8102.402812640241,\n",
       " 0.24: -7937.507285340316,\n",
       " 0.27: -7565.527749065072,\n",
       " 0.3: -7235.488078160061,\n",
       " 0.33: -6769.665903141363,\n",
       " 0.36: -6076.6082816006,\n",
       " 0.39: -5136.5532486911015,\n",
       " 0.42: -3891.056538893045,\n",
       " 0.45: -2631.9267453253565,\n",
       " 0.48: -1381.8816451009734,\n",
       " 0.51: 207.8660430067304,\n",
       " 0.54: 1930.9226533283463,\n",
       " 0.57: 3636.581729618548,\n",
       " 0.6: 5584.312096110694,\n",
       " 0.63: 7907.277245699325,\n",
       " 0.66: 10033.788005609573,\n",
       " 0.69: 12014.11248578908,\n",
       " 0.72: 14146.539037023185,\n",
       " 0.75: 16241.178176140613,\n",
       " 0.78: 18237.533610695587,\n",
       " 0.81: 20493.949241959614,\n",
       " 0.84: 22310.04585751683,\n",
       " 0.87: 23438.1757079282,\n",
       " 0.8925151240820621: 23854.258701944655,\n",
       " 0.9: 23797.217998878084,\n",
       " 0.93: 22863.797740837697,\n",
       " 0.96: 18835.51252617801,\n",
       " 0.99: 8732.02029132386}"
      ]
     },
     "execution_count": 403,
     "metadata": {},
     "output_type": "execute_result"
    }
   ],
   "source": [
    "plot_proba"
   ]
  },
  {
   "cell_type": "code",
   "execution_count": 402,
   "metadata": {},
   "outputs": [
    {
     "name": "stdout",
     "output_type": "stream",
     "text": [
      "Based on the information imputed here is the graph of returns on the training data\n"
     ]
    },
    {
     "data": {
      "image/png": "[encoded data removed]",
      "text/plain": [
       "<Figure size 720x720 with 1 Axes>"
      ]
     },
     "metadata": {},
     "output_type": "display_data"
    }
   ],
   "source": [
    "temp_proba_list = []\n",
    "for i in range(0,100,3):\n",
    "    temp_proba_list.append(i/100)\n",
    "temp_proba_list.append(suggested_initial_cut_off)\n",
    "\n",
    "\n",
    "optimal_proba_result = 0\n",
    "plot_proba = {}\n",
    "\n",
    "train_df['potential_gain'] = avg_interest * train_df['AMT_CREDIT']\n",
    "train_df['potential_loss'] = avg_reimbursed_b4_default * train_df['AMT_CREDIT']\n",
    "\n",
    "for proba in sorted(temp_proba_list):\n",
    "    train_df['result'] = np.nan   \n",
    "    train_df['y_proba2'] = np.where(train_df['proba']>= (1 - proba), 1 , 0)\n",
    "\n",
    "    train_df['result'] = np.where((train_df['TARGET']==0) & (train_df['y_proba2']==0), train_df['potential_gain'], train_df['result'])\n",
    "    train_df['result'] = np.where((train_df['TARGET']==0) & (train_df['y_proba2']==1), -train_df['potential_gain'], train_df['result'])\n",
    "    train_df['result'] = np.where((train_df['TARGET']==1) & (train_df['y_proba2']==0), -train_df['potential_loss'], train_df['result'])\n",
    "    train_df['result'] = np.where((train_df['TARGET']==1) & (train_df['y_proba2']==1), train_df['potential_loss'], train_df['result'])\n",
    "\n",
    "\n",
    "    avg_gains = train_df['result'].sum() / len(train_df)\n",
    "    plot_proba[proba] = avg_gains\n",
    "\n",
    "    if avg_gains > optimal_proba_result:\n",
    "        optimal_proba_result = avg_gains\n",
    "        optimal_proba = proba\n",
    "print_return_graph(plot_proba)"
   ]
  },
  {
   "cell_type": "code",
   "execution_count": 342,
   "metadata": {},
   "outputs": [
    {
     "data": {
      "text/plain": [
       "0.00         12239\n",
       "43603.20      1545\n",
       "41702.40      1202\n",
       "40679.64      1048\n",
       "39801.60       767\n",
       "             ...  \n",
       "46785.60         1\n",
       "36724.68         1\n",
       "98910.00         1\n",
       "92439.00         1\n",
       "121836.60        1\n",
       "Name: result, Length: 932, dtype: int64"
      ]
     },
     "execution_count": 342,
     "metadata": {},
     "output_type": "execute_result"
    }
   ],
   "source": [
    "train_df['result'].value_counts()"
   ]
  },
  {
   "cell_type": "code",
   "execution_count": 339,
   "metadata": {},
   "outputs": [
    {
     "name": "stdout",
     "output_type": "stream",
     "text": [
      "Based on the information imputed here is the graph of returns on the training data\n"
     ]
    },
    {
     "data": {
      "image/png": "[encoded data removed]",
      "text/plain": [
       "<Figure size 720x720 with 1 Axes>"
      ]
     },
     "metadata": {},
     "output_type": "display_data"
    }
   ],
   "source": [
    "temp_proba_list = []\n",
    "for i in range(0,100,3):\n",
    "    temp_proba_list.append(i/100)\n",
    "temp_proba_list.append(suggested_initial_cut_off)\n",
    "\n",
    "\n",
    "optimal_proba_result = 0\n",
    "plot_proba = {}\n",
    "\n",
    "train_df['potential_gain'] = avg_interest * train_df['AMT_CREDIT']\n",
    "train_df['potential_loss'] = avg_reimbursed_b4_default * train_df['AMT_CREDIT']\n",
    "\n",
    "for proba in temp_proba_list:\n",
    "\n",
    "    train_df['result'] = np.nan   \n",
    "    train_df['y_proba2'] = np.where(train_df['proba']>= (1 - proba), 1 , 0)\n",
    "\n",
    "    train_df['result'] = np.where((train_df['TARGET']==0) & (train_df['y_proba2']==0), train_df['potential_gain'], train_df['result'])\n",
    "    train_df['result'] = np.where((train_df['TARGET']==0) & (train_df['y_proba2']==1), -train_df['potential_gain'], train_df['result'])\n",
    "    train_df['result'] = np.where((train_df['TARGET']==1) & (train_df['y_proba2']==0), train_df['potential_loss'], train_df['result'])\n",
    "    train_df['result'] = np.where((train_df['TARGET']==1) & (train_df['y_proba2']==1), -train_df['potential_loss'], train_df['result'])\n",
    "\n",
    "\n",
    "    avg_gains = train_df['result'].sum() / len(train_df)\n",
    "    plot_proba[proba] = avg_gains\n",
    "\n",
    "    if avg_gains > optimal_proba_result:\n",
    "        optimal_proba_result = avg_gains\n",
    "        optimal_proba = proba\n",
    "        \n",
    "print_return_graph(plot_proba)"
   ]
  },
  {
   "cell_type": "code",
   "execution_count": null,
   "metadata": {},
   "outputs": [],
   "source": []
  },
  {
   "cell_type": "code",
   "execution_count": null,
   "metadata": {},
   "outputs": [],
   "source": []
  },
  {
   "cell_type": "code",
   "execution_count": null,
   "metadata": {},
   "outputs": [],
   "source": []
  },
  {
   "cell_type": "code",
   "execution_count": null,
   "metadata": {},
   "outputs": [],
   "source": []
  },
  {
   "cell_type": "code",
   "execution_count": null,
   "metadata": {},
   "outputs": [],
   "source": []
  },
  {
   "cell_type": "code",
   "execution_count": null,
   "metadata": {},
   "outputs": [],
   "source": []
  },
  {
   "cell_type": "code",
   "execution_count": null,
   "metadata": {},
   "outputs": [],
   "source": []
  },
  {
   "cell_type": "markdown",
   "metadata": {
    "_uuid": "755e931d22a38fcbd9930d099a6aec43f0bb6249"
   },
   "source": [
    "## Using SHAP (SHapley Additive exPlanations)"
   ]
  },
  {
   "cell_type": "code",
   "execution_count": null,
   "metadata": {
    "_uuid": "71d9b441437d7266dfb2ca3c3ac8bc6fcdf51b6a",
    "tags": []
   },
   "outputs": [],
   "source": [
    "# explain the model's predictions using SHAP values\n",
    "# (same syntax works for LightGBM, CatBoost, and scikit-learn models)\n",
    "explainer = shap.TreeExplainer(models[0], num_iteration=models[0].best_iteration_)\n",
    "shap_values = explainer.shap_values(train_df)"
   ]
  },
  {
   "cell_type": "code",
   "execution_count": null,
   "metadata": {},
   "outputs": [],
   "source": []
  },
  {
   "cell_type": "code",
   "execution_count": null,
   "metadata": {
    "_uuid": "132c3130b94ef3762ddfed43284d81c70ab5b273",
    "tags": []
   },
   "outputs": [],
   "source": [
    "# load JS visualization code to notebook\n",
    "shap.initjs()\n",
    "\n",
    "# visualize the first prediction's explanation (in log-odds scale)\n",
    "print('Model prediction:', models[0].predict_proba(train_df[:1], num_iteration=models[0].best_iteration_)[:,1])\n",
    "shap.force_plot(shap_values[0,:], train_df.iloc[0,:])"
   ]
  },
  {
   "cell_type": "code",
   "execution_count": null,
   "metadata": {
    "_uuid": "b9376f7f25aa7eed05d3352942c1ec40e0ad71f6"
   },
   "outputs": [],
   "source": [
    "# Reconstructing the lgb output from shap_values:\n",
    "def inv_logit(p): return np.exp(p) / (1 + np.exp(p))\n",
    "base_value = shap_values[0,-1]  ## this old version of shap uses the last index to store the base value\n",
    "output = base_value + np.sum(shap_values[0,:-1])  ## the remaining indexes are the the linear/additive contributions of each feature\n",
    "\n",
    "print('Log-odds output:', output, ' Logistic output:', inv_logit(output))"
   ]
  },
  {
   "cell_type": "code",
   "execution_count": null,
   "metadata": {
    "_uuid": "28c2eceebabbe62ab5559636b7a058fd6aba8020"
   },
   "outputs": [],
   "source": [
    "# visualize the training set predictions\n",
    "shap.force_plot(shap_values[::2000], train_df[::2000])"
   ]
  },
  {
   "cell_type": "code",
   "execution_count": null,
   "metadata": {
    "_uuid": "8043c35971e0bc49805fafd7057b7a2dc4076eaa"
   },
   "outputs": [],
   "source": [
    "# summarize the effects of top features\n",
    "shap.summary_plot(shap_values, train_df, max_display=30)"
   ]
  },
  {
   "cell_type": "markdown",
   "metadata": {
    "_uuid": "d3b42215cd6f3e0795c74289b98dcfd6676f8a06"
   },
   "source": [
    "## Select Best Features\n",
    "To avoid fitting to noise and improve our LB score ;)"
   ]
  },
  {
   "cell_type": "code",
   "execution_count": null,
   "metadata": {
    "_uuid": "1f04ebfaca8d73cfdbafe129b2959672bdd2fbcd",
    "tags": []
   },
   "outputs": [],
   "source": [
    "percentile = 0.15 ## tweak me\n",
    "best_features = feat_importance[[\"feature\", \"shap_values\"]].groupby(\"feature\")[\"shap_values\"].agg(['mean']) \\\n",
    "                                                           .sort_values(by=\"mean\", ascending=False).reset_index()\n",
    "best_features = best_features[:int(best_features.shape[0]*percentile)][\"feature\"].values\n",
    "print(\"## Using {} features =\".format(len(best_features)), best_features)\n",
    "with timer(\"Run LightGBM with kfold\"):\n",
    "    train_df = train_df[best_features]\n",
    "    test_df = test_df[best_features]\n",
    "    feat_importance, models, scores = kfold_lightgbm(train_df, train_target, test_df, num_folds=5, stratified=False, debug=debug)"
   ]
  },
  {
   "cell_type": "code",
   "execution_count": null,
   "metadata": {},
   "outputs": [],
   "source": []
  },
  {
   "cell_type": "code",
   "execution_count": null,
   "metadata": {},
   "outputs": [],
   "source": [
    "train_df.head(1)"
   ]
  },
  {
   "cell_type": "markdown",
   "metadata": {},
   "source": [
    "serveur.py\n",
    "api en local\n"
   ]
  },
  {
   "cell_type": "code",
   "execution_count": null,
   "metadata": {},
   "outputs": [],
   "source": []
  },
  {
   "cell_type": "code",
   "execution_count": null,
   "metadata": {},
   "outputs": [],
   "source": []
  },
  {
   "cell_type": "code",
   "execution_count": null,
   "metadata": {},
   "outputs": [],
   "source": [
    "API,\n",
    "dd\n",
    "https://www.youtube.com/watch?v=MwZwr5Tvyxo\n",
    "\n"
   ]
  },
  {
   "cell_type": "code",
   "execution_count": null,
   "metadata": {},
   "outputs": [],
   "source": []
  },
  {
   "cell_type": "code",
   "execution_count": null,
   "metadata": {},
   "outputs": [],
   "source": []
  }
 ],
 "metadata": {
  "kernelspec": {
   "display_name": "Python 3",
   "language": "python",
   "name": "python3"
  },
  "language_info": {
   "codemirror_mode": {
    "name": "ipython",
    "version": 3
   },
   "file_extension": ".py",
   "mimetype": "text/x-python",
   "name": "python",
   "nbconvert_exporter": "python",
   "pygments_lexer": "ipython3",
   "version": "3.8.5"
  }
 },
 "nbformat": 4,
 "nbformat_minor": 4
}
